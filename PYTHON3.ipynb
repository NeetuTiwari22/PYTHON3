{
  "cells": [
    {
      "cell_type": "markdown",
      "metadata": {
        "id": "view-in-github",
        "colab_type": "text"
      },
      "source": [
        "<a href=\"https://colab.research.google.com/github/NeetuTiwari22/PYTHON3/blob/main/PYTHON3.ipynb\" target=\"_parent\"><img src=\"https://colab.research.google.com/assets/colab-badge.svg\" alt=\"Open In Colab\"/></a>"
      ]
    },
    {
      "cell_type": "code",
      "execution_count": null,
      "metadata": {
        "colab": {
          "base_uri": "https://localhost:8080/"
        },
        "id": "5o5XtuS51GYM",
        "outputId": "75dfefe2-4d54-4959-f7c8-f194f0b1223b"
      },
      "outputs": [
        {
          "name": "stdout",
          "output_type": "stream",
          "text": [
            "Enter a number: 4\n",
            "The number is positive\n"
          ]
        }
      ],
      "source": [
        "# 1. Check if a number is positive, negative, or zero\n",
        "# Write a Python program that takes a number as input and checks whether it is positive, negative, or zero.\n",
        "\n",
        "n = int(input(\"enter a number: \"))\n",
        "if n > 0:\n",
        "    print(\"The number is positive\")\n",
        "elif n < 0:\n",
        "    print(\"The number is negative\")\n",
        "else:\n",
        "    print(\"The number is zero\")\n"
      ]
    },
    {
      "cell_type": "code",
      "execution_count": null,
      "metadata": {
        "colab": {
          "base_uri": "https://localhost:8080/"
        },
        "id": "g2M8eVMZ2_2I",
        "outputId": "582de6a5-cd47-4463-8bbe-ca399f79a86a"
      },
      "outputs": [
        {
          "name": "stdout",
          "output_type": "stream",
          "text": [
            "enter a number12\n",
            "even number\n"
          ]
        }
      ],
      "source": [
        "#2. Check if a number is even or odd\n",
        "# Write a Python program that asks the user to enter a number and determines if it is even or odd.\n",
        "n=int(input(\"enter a number\"))\n",
        "if n % 2 == 0:\n",
        "  print(\"even number\")\n",
        "else :\n",
        "  print(\"odd number\")\n"
      ]
    },
    {
      "cell_type": "code",
      "execution_count": null,
      "metadata": {
        "colab": {
          "base_uri": "https://localhost:8080/"
        },
        "id": "R4ZdqISS4iUg",
        "outputId": "b2c3ebb5-bab0-4a47-e326-665a7eb212da"
      },
      "outputs": [
        {
          "name": "stdout",
          "output_type": "stream",
          "text": [
            "enter a number22\n",
            "enter b number1\n",
            " a largest number\n"
          ]
        }
      ],
      "source": [
        "# 3. Find the largest of two numbers\n",
        "# Write a Python program that takes two numbers as input and prints the largest one.\n",
        "a=int(input(\"enter a number\"))\n",
        "b=int(input(\"enter b number\"))\n",
        "if a>b:\n",
        "  print(\" a largest number\")\n",
        "elif b>a:\n",
        "  print(\" b largest number\")\n",
        "\n"
      ]
    },
    {
      "cell_type": "code",
      "execution_count": null,
      "metadata": {
        "colab": {
          "base_uri": "https://localhost:8080/"
        },
        "id": "ddDzt3_K6igN",
        "outputId": "3d89f367-34ae-4545-95a8-7bcec98482d1"
      },
      "outputs": [
        {
          "name": "stdout",
          "output_type": "stream",
          "text": [
            "a enter a number22\n",
            "b enter a number12\n",
            "c enter a number33\n",
            "c is large number\n"
          ]
        }
      ],
      "source": [
        "# 4. Find the largest of three numbers\n",
        "# Write a Python program that takes three numbers as input and determines the largest of the three.\n",
        "a=int(input(\"a enter a number\"))\n",
        "b=int(input(\"b enter a number\"))\n",
        "c=int(input(\"c enter a number\"))\n",
        "if a>b>c:\n",
        "  print(\"a is large number\")\n",
        "elif b>a>c:\n",
        "  print(\"b is large number\")\n",
        "elif c>a>b:\n",
        "  print(\"c is large number\")"
      ]
    },
    {
      "cell_type": "code",
      "execution_count": null,
      "metadata": {
        "colab": {
          "base_uri": "https://localhost:8080/"
        },
        "id": "MxEh_dQA932n",
        "outputId": "c036dca9-7e6b-4896-9a34-0d5bdf6280d2"
      },
      "outputs": [
        {
          "name": "stdout",
          "output_type": "stream",
          "text": [
            "Enter a year: 1997\n",
            "is not a leap year.\n"
          ]
        }
      ],
      "source": [
        "# 5. Check if a year is a leap year\n",
        "# Write a Python program that takes a year as input and checks whether it is a leap year or not.\n",
        "year = int(input(\"Enter a year: \"))\n",
        "      #   if year % 4 == 0:\n",
        "      #    print(\"leap  year\")\n",
        "      #  else :\n",
        "      #    print(\"not leap year\")\n",
        "\n",
        "if (year % 4 == 0) and (year % 100 != 0) or (year % 400 == 0):\n",
        "    print(\" is a leap year.\")\n",
        "else:\n",
        "    print(\"is not a leap year.\")\n"
      ]
    },
    {
      "cell_type": "code",
      "execution_count": null,
      "metadata": {
        "colab": {
          "base_uri": "https://localhost:8080/"
        },
        "id": "gQvkpO8S-t2j",
        "outputId": "9021c654-a338-4cff-f3e6-36f357bdf72f"
      },
      "outputs": [
        {
          "name": "stdout",
          "output_type": "stream",
          "text": [
            "Enter your marks: 88\n",
            "Grade: B\n"
          ]
        }
      ],
      "source": [
        "# 6. Grade a student based on marks\n",
        "# Write a Python program that asks the user to enter their marks and assigns a grade based on the following:\n",
        "\n",
        "marks = int(input(\"Enter your marks: \"))\n",
        "\n",
        "if marks >= 90:\n",
        "    print(\"Grade: A\")\n",
        "elif marks >= 80:\n",
        "    print(\"Grade: B\")\n",
        "elif marks >= 70:\n",
        "    print(\"Grade: C\")\n",
        "elif marks >= 60:\n",
        "    print(\"Grade: D\")\n",
        "else:\n",
        "    print(\"Grade: F\")\n"
      ]
    },
    {
      "cell_type": "code",
      "execution_count": null,
      "metadata": {
        "colab": {
          "base_uri": "https://localhost:8080/"
        },
        "id": "MmkL-_p4_end",
        "outputId": "3952ac31-cbfd-4cd3-8010-7730689e42f1"
      },
      "outputs": [
        {
          "name": "stdout",
          "output_type": "stream",
          "text": [
            "Enter a number: 55\n",
            "is divisible by both 5 and 11.\n"
          ]
        }
      ],
      "source": [
        "# 7. Check if a number is divisible by both 5 and 11\n",
        "# Write a Python program that takes a number as input and checks if it is divisible by both 5 and 11.\n",
        "\n",
        "number = int(input(\"Enter a number: \"))\n",
        "\n",
        "if (number % 5 == 0) & (number % 11 == 0):\n",
        "    print(\"is divisible by both 5 and 11.\")\n",
        "else:\n",
        "    print(\" is NOT divisible by both 5 and 11.\")\n",
        "\n",
        "\n"
      ]
    },
    {
      "cell_type": "code",
      "execution_count": null,
      "metadata": {
        "colab": {
          "base_uri": "https://localhost:8080/"
        },
        "id": "hn9MgyDGAlgA",
        "outputId": "8daf11f1-b598-404f-e242-ada17d617729"
      },
      "outputs": [
        {
          "name": "stdout",
          "output_type": "stream",
          "text": [
            "Enter your character: b\n",
            "consonent\n"
          ]
        }
      ],
      "source": [
        "# 8. Check if a character is a vowel or consonant\n",
        "# Write a Python program that takes a single character as input and checks whether it is a vowel (a, e, i, o, u) or a consonant.\n",
        "char = input(\"Enter your character: \")\n",
        "if char == 'a' or char == 'e' or char == 'i' or char == 'o' or char == 'u':\n",
        " print(\"vowel\")\n",
        "else:\n",
        "  print(\"consonent\")\n",
        "\n"
      ]
    },
    {
      "cell_type": "code",
      "execution_count": null,
      "metadata": {
        "colab": {
          "base_uri": "https://localhost:8080/"
        },
        "id": "V6ns0jSAGdrd",
        "outputId": "408831de-df21-4fd4-efb5-b159526031fc"
      },
      "outputs": [
        {
          "name": "stdout",
          "output_type": "stream",
          "text": [
            "Enter a number: 22\n",
            " is within the range of 10 to 50.\n"
          ]
        }
      ],
      "source": [
        "# 9. Check if a number is within a specific range\n",
        "# Write a Python program that checks whether a given number lies between 10 and 50 (inclusive).\n",
        "\n",
        "num = int(input(\"Enter a number: \"))\n",
        "if 10 <= num <= 50:\n",
        "    print(\" is within the range of 10 to 50.\")\n",
        "else:\n",
        "    print(\"is outside the range of 10 to 50.\")\n"
      ]
    },
    {
      "cell_type": "code",
      "execution_count": null,
      "metadata": {
        "colab": {
          "base_uri": "https://localhost:8080/"
        },
        "id": "U0f6o5p0HX_T",
        "outputId": "d6fe2d90-f64d-45c4-bad9-8c89218c75ce"
      },
      "outputs": [
        {
          "name": "stdout",
          "output_type": "stream",
          "text": [
            "Enter your age: 44\n",
            "You are eligible to vote.\n"
          ]
        }
      ],
      "source": [
        "# 10. Check if a person is eligible to vote\n",
        "# Write a Python program that asks for a person's age and checks if they are eligible to vote (age ≥ 18).\n",
        "age = int(input(\"Enter your age: \"))\n",
        "\n",
        "if age >= 18:\n",
        "    print(\"You are eligible to vote.\")\n",
        "else:\n",
        "    print(\"You are not eligible to vote.\")\n"
      ]
    },
    {
      "cell_type": "code",
      "execution_count": null,
      "metadata": {
        "colab": {
          "base_uri": "https://localhost:8080/"
        },
        "id": "uXK6Nla755ZF",
        "outputId": "1177c7c4-7cbc-4590-c07d-86d7684f7f9b"
      },
      "outputs": [
        {
          "name": "stdout",
          "output_type": "stream",
          "text": [
            "How many seats would you like to book? 5\n",
            "Total fare for 5 seats is: 500 units\n",
            "Available seats after booking: 95\n"
          ]
        }
      ],
      "source": [
        "# Initial values\n",
        "total_seats = 100\n",
        "seat_price = 100\n",
        "\n",
        "# Get user input\n",
        "seats_requested = int(input(\"How many seats would you like to book? \"))\n",
        "\n",
        "# Check if enough seats are available\n",
        "if seats_requested <= total_seats and seats_requested > 0:\n",
        "    total_fare = seats_requested * seat_price\n",
        "    total_seats -= seats_requested\n",
        "    print(f\"Total fare for {seats_requested} seats is: {total_fare} units\")\n",
        "    print(f\"Available seats after booking: {total_seats}\")\n",
        "else:\n",
        "    print(\"Sorry, not enough seats available or invalid number of seats!\")\n"
      ]
    },
    {
      "cell_type": "code",
      "execution_count": null,
      "metadata": {
        "id": "HqBQRJEi5if_"
      },
      "outputs": [],
      "source": [
        "# 21-3-2025\n",
        "# String is immutable datatype . Immutable means we cannot change or update values at a runtime.\n",
        "# Indexing start from 0 and  length start from 1 .\n",
        "# forward Indexing start from 0 and reverse/backward indexing start from -1."
      ]
    },
    {
      "cell_type": "code",
      "execution_count": null,
      "metadata": {
        "colab": {
          "base_uri": "https://localhost:8080/"
        },
        "id": "tOkZVhel593W",
        "outputId": "17e3d903-246c-401a-dd51-8176d8e7d027"
      },
      "outputs": [
        {
          "name": "stdout",
          "output_type": "stream",
          "text": [
            "sam\n"
          ]
        },
        {
          "data": {
            "text/plain": [
              "str"
            ]
          },
          "execution_count": 2,
          "metadata": {},
          "output_type": "execute_result"
        }
      ],
      "source": [
        "a = 'sam'\n",
        "print(a)\n",
        "type(a)"
      ]
    },
    {
      "cell_type": "code",
      "execution_count": null,
      "metadata": {
        "colab": {
          "base_uri": "https://localhost:8080/"
        },
        "id": "CQrrqxfA6Kbd",
        "outputId": "8ef2116c-427c-456d-fd18-0e9a4bcd4f59"
      },
      "outputs": [
        {
          "name": "stdout",
          "output_type": "stream",
          "text": [
            "I\n",
            " \n",
            "l\n",
            "o\n",
            "v\n",
            "e\n"
          ]
        }
      ],
      "source": [
        "# Indexing\n",
        "a = 'I love Maths'\n",
        "print(a[0])      ####forward Indexing start from 0\n",
        "print(a[1])\n",
        "print(a[2])\n",
        "print(a[3])\n",
        "print(a[4])\n",
        "print(a[5])"
      ]
    },
    {
      "cell_type": "code",
      "execution_count": null,
      "metadata": {
        "colab": {
          "base_uri": "https://localhost:8080/"
        },
        "id": "BJfRLZQg6SyM",
        "outputId": "262f199f-1a31-4f29-a37a-9dc68cd8c6ed"
      },
      "outputs": [
        {
          "name": "stdout",
          "output_type": "stream",
          "text": [
            "s\n",
            "h\n",
            "t\n",
            "a\n",
            "M\n"
          ]
        }
      ],
      "source": [
        "print(a[-1])   ###Reverse Indexing\n",
        "print(a[-2])\n",
        "print(a[-3])\n",
        "print(a[-4])\n",
        "print(a[-5])"
      ]
    },
    {
      "cell_type": "markdown",
      "metadata": {
        "id": "PTd9BZ-L6jPX"
      },
      "source": [
        "Slicing in String\n",
        " `\n",
        "str[start_index_value:last_index_value:step_value]\n",
        "start_index_value will include and last_index_value will exclude ."
      ]
    },
    {
      "cell_type": "code",
      "execution_count": null,
      "metadata": {
        "colab": {
          "base_uri": "https://localhost:8080/"
        },
        "id": "1lPF8yvr60RJ",
        "outputId": "a0bb8749-8c19-4021-f6c2-2bb37aba708d"
      },
      "outputs": [
        {
          "name": "stdout",
          "output_type": "stream",
          "text": [
            "love\n",
            "Maths\n",
            "Maths\n",
            "I love \n",
            "I love Maths\n",
            "Ilv ah\n",
            "I love Math\n"
          ]
        }
      ],
      "source": [
        "a = 'I love Maths'\n",
        "print(a[2:6])\n",
        "print(a[7:12])\n",
        "print(a[7:])\n",
        "print(a[:7])\n",
        "print(a[:])\n",
        "print(a[0:11:2]) ###[start:last:step]\n",
        "print(a[0:11])"
      ]
    },
    {
      "cell_type": "code",
      "execution_count": null,
      "metadata": {
        "colab": {
          "base_uri": "https://localhost:8080/"
        },
        "id": "GI9ftj4y7G5M",
        "outputId": "5bdc21ee-45b2-4a86-d7bb-1049caeb2b2d"
      },
      "outputs": [
        {
          "name": "stdout",
          "output_type": "stream",
          "text": [
            "olleh\n"
          ]
        }
      ],
      "source": [
        "s = \"hello\"\n",
        "reversed_s = s[::-1]\n",
        "print(reversed_s)\n"
      ]
    },
    {
      "cell_type": "code",
      "execution_count": null,
      "metadata": {
        "colab": {
          "base_uri": "https://localhost:8080/"
        },
        "id": "hECFjepTeVOe",
        "outputId": "a69b7b12-f553-4ccb-a62c-e210a4fe7936"
      },
      "outputs": [
        {
          "name": "stdout",
          "output_type": "stream",
          "text": [
            "gram\n"
          ]
        }
      ],
      "source": [
        "s = \"programming\"\n",
        "print(s[3:7])\n"
      ]
    },
    {
      "cell_type": "code",
      "execution_count": null,
      "metadata": {
        "colab": {
          "base_uri": "https://localhost:8080/"
        },
        "id": "TtgOxRQxgT0f",
        "outputId": "05381ea4-7963-4c6a-a0d4-9b9455b04a92"
      },
      "outputs": [
        {
          "name": "stdout",
          "output_type": "stream",
          "text": [
            "3\n"
          ]
        }
      ],
      "source": [
        "s = \"banana\"\n",
        "print(s.count('a'))\n"
      ]
    },
    {
      "cell_type": "code",
      "execution_count": null,
      "metadata": {
        "colab": {
          "base_uri": "https://localhost:8080/"
        },
        "id": "NaqeT7ENgiTw",
        "outputId": "a48b487a-198e-4406-e3ac-ea628d3c2270"
      },
      "outputs": [
        {
          "name": "stdout",
          "output_type": "stream",
          "text": [
            "HELLO WORLD\n"
          ]
        }
      ],
      "source": [
        "s = \"hello world\"\n",
        "print(s.upper())\n"
      ]
    },
    {
      "cell_type": "markdown",
      "metadata": {
        "id": "wN6mh9Cmhmci"
      },
      "source": [
        "# **loop in python**"
      ]
    },
    {
      "cell_type": "code",
      "execution_count": null,
      "metadata": {
        "colab": {
          "base_uri": "https://localhost:8080/"
        },
        "id": "0kuMRpGng4Ko",
        "outputId": "6e3d94f7-b2a2-4eee-ea55-093addeae25b"
      },
      "outputs": [
        {
          "name": "stdout",
          "output_type": "stream",
          "text": [
            "Enter 1 num1\n",
            "enter last num10\n",
            "enter step value2\n",
            "1\n",
            "3\n",
            "5\n",
            "7\n",
            "9\n"
          ]
        }
      ],
      "source": [
        "i=int(input(\"Enter 1 num\"))\n",
        "n=int(input(\"enter last num\"))\n",
        "p=int(input(\"enter step value\"))\n",
        "\n",
        "while(i<=n):\n",
        " print(i)\n",
        " i=i+p"
      ]
    },
    {
      "cell_type": "code",
      "execution_count": null,
      "metadata": {
        "colab": {
          "base_uri": "https://localhost:8080/"
        },
        "id": "-gFePuvP3x7M",
        "outputId": "094d8042-9127-4fcf-c0b7-8cbe4e65e46a"
      },
      "outputs": [
        {
          "name": "stdout",
          "output_type": "stream",
          "text": [
            "sum: 10\n"
          ]
        }
      ],
      "source": [
        " # sum of first 10 natural number\n",
        " total=0\n",
        " for i in range (1,11):\n",
        "  total +=1\n",
        " print(\"sum:\",total)\n"
      ]
    },
    {
      "cell_type": "code",
      "execution_count": null,
      "metadata": {
        "colab": {
          "base_uri": "https://localhost:8080/"
        },
        "id": "oaXbI4-l7Nnq",
        "outputId": "fdb9a240-2210-40ef-efeb-f64106df082e"
      },
      "outputs": [
        {
          "name": "stdout",
          "output_type": "stream",
          "text": [
            "Enter a number5\n",
            "factorial of 5 is 120\n"
          ]
        }
      ],
      "source": [
        "# factorial number\n",
        "num=int(input(\"Enter a number\"))\n",
        "factorial = 1\n",
        "for i in range (1,num+1):\n",
        "  factorial *= i\n",
        "print(f\"factorial of {num} is {factorial}\")"
      ]
    },
    {
      "cell_type": "code",
      "execution_count": null,
      "metadata": {
        "colab": {
          "base_uri": "https://localhost:8080/"
        },
        "id": "VayONbIg8JHV",
        "outputId": "239738a8-1b9a-4963-b5e2-7f8aa11416a3"
      },
      "outputs": [
        {
          "name": "stdout",
          "output_type": "stream",
          "text": [
            "Enter a string: hello world\n",
            "Enter the vowels: 3\n",
            "Enter of cons: 8\n"
          ]
        }
      ],
      "source": [
        "# count vowels and consonant\n",
        "text =input(\"Enter a string: \")\n",
        "vowels = \"aeiouAEIOU\"\n",
        "count = 0\n",
        "cons = 0\n",
        "for char in text:\n",
        "  if char in vowels:\n",
        "     count += 1\n",
        "  else:\n",
        "    cons = cons + 1\n",
        "print(\"Enter the vowels:\",count)\n",
        "print(\"Enter of cons:\",cons)"
      ]
    },
    {
      "cell_type": "code",
      "execution_count": null,
      "metadata": {
        "colab": {
          "base_uri": "https://localhost:8080/"
        },
        "id": "j3eGdTvJAzrn",
        "outputId": "a6066690-bf43-4fd1-e236-4369767275a7"
      },
      "outputs": [
        {
          "name": "stdout",
          "output_type": "stream",
          "text": [
            "enter a name:neetu\n",
            "0\n",
            "n\n",
            "1\n",
            "e\n",
            "2\n",
            "e\n",
            "3\n",
            "t\n",
            "4\n",
            "u\n"
          ]
        }
      ],
      "source": [
        "a=input(\"enter a name:\")\n",
        "len(a)\n",
        "for i in range (len(a)):\n",
        "  print(i)\n",
        "  print(a[i])"
      ]
    },
    {
      "cell_type": "code",
      "execution_count": null,
      "metadata": {
        "colab": {
          "base_uri": "https://localhost:8080/"
        },
        "id": "NaIQ42VsgEvq",
        "outputId": "8e6ff484-6ada-4846-8966-ae7e29a4f709"
      },
      "outputs": [
        {
          "name": "stdout",
          "output_type": "stream",
          "text": [
            "Enter a number5\n",
            "5*1=5\n",
            "5*2=10\n",
            "5*3=15\n",
            "5*4=20\n",
            "5*5=25\n",
            "5*6=30\n",
            "5*7=35\n",
            "5*8=40\n",
            "5*9=45\n",
            "5*10=50\n"
          ]
        }
      ],
      "source": [
        "# multiplication table\n",
        "num = int(input(\"Enter a number\"))\n",
        "for i in range (1,11):\n",
        "  print(f\"{num}*{i}={num*i}\")\n"
      ]
    },
    {
      "cell_type": "code",
      "execution_count": null,
      "metadata": {
        "colab": {
          "base_uri": "https://localhost:8080/"
        },
        "id": "XjiNQMkzoUzv",
        "outputId": "b2c69ba2-2366-4a4f-cab9-daa5c5f9540e"
      },
      "outputs": [
        {
          "name": "stdout",
          "output_type": "stream",
          "text": [
            "Enter a number:5\n",
            "    *\n",
            "   ***\n",
            "  *****\n",
            " *******\n",
            "*********\n"
          ]
        }
      ],
      "source": [
        "#full pyramid patterns\n",
        "n =int(input(\"Enter a number:\"))\n",
        "for i in range(1,n+1):\n",
        "  print(' '*(n-i)+'*'*(2*i-1))\n"
      ]
    },
    {
      "cell_type": "code",
      "execution_count": null,
      "metadata": {
        "colab": {
          "base_uri": "https://localhost:8080/"
        },
        "id": "biYHGvHFDPbT",
        "outputId": "1de38e01-6f1a-4a97-c6c3-f16e8aa6eac6"
      },
      "outputs": [
        {
          "name": "stdout",
          "output_type": "stream",
          "text": [
            "*********\n",
            " *******\n",
            "  *****\n",
            "   ***\n",
            "    *\n"
          ]
        }
      ],
      "source": [
        "# inverted full Pyramid Patterns\n",
        "n=5\n",
        "for i in range(n,0,-1):\n",
        " print(' '*(n-i)+'*'*(2*i-1))\n"
      ]
    },
    {
      "cell_type": "code",
      "execution_count": null,
      "metadata": {
        "colab": {
          "base_uri": "https://localhost:8080/"
        },
        "id": "hm7-ofggg672",
        "outputId": "570c87f6-145c-43ad-925a-bc32ec4547ab"
      },
      "outputs": [
        {
          "name": "stdout",
          "output_type": "stream",
          "text": [
            "*\n",
            "**\n",
            "***\n",
            "****\n",
            "*****\n"
          ]
        }
      ],
      "source": [
        "# Half Pyramid Patterns\n",
        "for i in range (1,6):\n",
        " print(i*'*')"
      ]
    },
    {
      "cell_type": "code",
      "execution_count": null,
      "metadata": {
        "colab": {
          "base_uri": "https://localhost:8080/"
        },
        "id": "wBFYfaKFjoYI",
        "outputId": "d6f963df-e1db-43e4-933f-e1d040899cf7"
      },
      "outputs": [
        {
          "name": "stdout",
          "output_type": "stream",
          "text": [
            "*****\n",
            "****\n",
            "***\n",
            "**\n",
            "*\n"
          ]
        }
      ],
      "source": [
        "#Inverted half Pyramid Patterns\n",
        "for i in range(5,0,-1):\n",
        "  print(i*'*')"
      ]
    },
    {
      "cell_type": "code",
      "execution_count": null,
      "metadata": {
        "colab": {
          "base_uri": "https://localhost:8080/"
        },
        "id": "YPQGPOCnkPeI",
        "outputId": "e5fcf9d6-9690-454b-b12a-49a308e8a8ff"
      },
      "outputs": [
        {
          "name": "stdout",
          "output_type": "stream",
          "text": [
            "Enter number5\n",
            "*\n",
            "**\n",
            "* *\n",
            "*  *\n",
            "*****\n"
          ]
        }
      ],
      "source": [
        "# Hollow Right Triangle Star Pattern\n",
        "n=int(input(\"Enter number\"))\n",
        "for i in range (1,n+1):\n",
        "    if i == 1 or i == n:\n",
        "      print('*'*i) #first or last row\n",
        "    else:\n",
        "      print('*'+' '*(i-2)+'*') #middel rows with space"
      ]
    },
    {
      "cell_type": "markdown",
      "metadata": {
        "id": "eMN2wvvc7Wqn"
      },
      "source": [
        "# **Nested** loop"
      ]
    },
    {
      "cell_type": "code",
      "execution_count": null,
      "metadata": {
        "colab": {
          "base_uri": "https://localhost:8080/"
        },
        "id": "4vMLrof30L49",
        "outputId": "60365251-cd26-45a4-d8e1-3c51a8ee93f8"
      },
      "outputs": [
        {
          "output_type": "stream",
          "name": "stdout",
          "text": [
            "*\n",
            "**\n",
            "***\n",
            "****\n",
            "*****\n"
          ]
        }
      ],
      "source": [
        "n=5\n",
        "for i in range(1,n+1):\n",
        " for j in range(i):\n",
        "   print('*',end='')\n",
        " print()\n"
      ]
    },
    {
      "cell_type": "code",
      "source": [
        "n=5\n",
        "for i in range(1,n+1):\n",
        "  for j in range(i):\n",
        "    if j==0 or j==i-1 or i==1 or i==n:\n",
        "       print('*',end=' ')\n",
        "    else:\n",
        "      print(' ',end=' ')\n",
        "  print()"
      ],
      "metadata": {
        "colab": {
          "base_uri": "https://localhost:8080/"
        },
        "id": "nOqgk0aKXAC3",
        "outputId": "35968375-62c0-49aa-e225-04b241b10589"
      },
      "execution_count": null,
      "outputs": [
        {
          "output_type": "stream",
          "name": "stdout",
          "text": [
            "* \n",
            "* * \n",
            "*   * \n",
            "*     * \n",
            "* * * * * \n"
          ]
        }
      ]
    },
    {
      "cell_type": "code",
      "source": [
        "n=5\n",
        "for i in range(1,n+1):\n",
        "  for j in range(n-i):\n",
        "   print(' ',end=' ')\n",
        "  for k in range(2*i-1):\n",
        "    print('*',end=' ')\n",
        "  print()"
      ],
      "metadata": {
        "colab": {
          "base_uri": "https://localhost:8080/"
        },
        "id": "kvQt0Pr1YSbO",
        "outputId": "0145b348-781f-4f1b-e9c3-0daba88586ca"
      },
      "execution_count": null,
      "outputs": [
        {
          "output_type": "stream",
          "name": "stdout",
          "text": [
            "        * \n",
            "      * * * \n",
            "    * * * * * \n",
            "  * * * * * * * \n",
            "* * * * * * * * * \n"
          ]
        }
      ]
    },
    {
      "cell_type": "code",
      "execution_count": null,
      "metadata": {
        "id": "GxI8ywbg83h9",
        "colab": {
          "base_uri": "https://localhost:8080/"
        },
        "outputId": "e0a904ad-9360-4fb8-a673-936eb4b3e273"
      },
      "outputs": [
        {
          "output_type": "stream",
          "name": "stdout",
          "text": [
            "* * * * * * * * * \n",
            "  * * * * * * * \n",
            "    * * * * * \n",
            "      * * * \n",
            "        * \n"
          ]
        }
      ],
      "source": [
        "n=5\n",
        "for i in range(n,0,-1):\n",
        " for j in range(n-i):\n",
        "  print('  ',end='')\n",
        " for k in range(2*i-1):\n",
        "  print('*',end=' ')\n",
        " print()\n",
        "\n"
      ]
    },
    {
      "cell_type": "markdown",
      "source": [
        "**LIST**\n",
        "1. Identification:[ ].\n",
        "2. list is a collection of item in which we can store different-different elements.\n",
        "3. Indexing start from 0 and length start from 1.\n",
        "4. Mutable data type--->we can change or update the value at a run time.\n",
        "5. Elements are separated by commas.\n",
        "\n",
        "\n"
      ],
      "metadata": {
        "id": "BPz09jSFFXhW"
      }
    },
    {
      "cell_type": "code",
      "source": [
        "a = ['sam' ,'raj',45,34.89,12,67]\n",
        "type(a)"
      ],
      "metadata": {
        "colab": {
          "base_uri": "https://localhost:8080/"
        },
        "id": "JKv9285vHnrQ",
        "outputId": "46f2144d-3ed7-4eaa-d404-651a353b310a"
      },
      "execution_count": null,
      "outputs": [
        {
          "output_type": "execute_result",
          "data": {
            "text/plain": [
              "list"
            ]
          },
          "metadata": {},
          "execution_count": 2
        }
      ]
    },
    {
      "cell_type": "code",
      "source": [
        "#Indexing and slicling\n",
        "print(a[0])\n",
        "print(a[1])\n",
        "print(a[2])\n",
        "print(a[3])\n",
        "print(a[2:5])\n",
        "print(a[1:4])\n",
        "print(a[3:])\n",
        "print(a[:3])\n",
        "print(a[:])"
      ],
      "metadata": {
        "colab": {
          "base_uri": "https://localhost:8080/"
        },
        "id": "YQ3_aun0Ikvy",
        "outputId": "ade216f9-8868-48ab-d1e1-0dd228b80edd"
      },
      "execution_count": null,
      "outputs": [
        {
          "output_type": "stream",
          "name": "stdout",
          "text": [
            "sam\n",
            "raj\n",
            "45\n",
            "34.89\n",
            "[45, 34.89, 12]\n",
            "['raj', 45, 34.89]\n",
            "[34.89, 12, 67]\n",
            "['sam', 'raj', 45]\n",
            "['sam', 'raj', 45, 34.89, 12, 67]\n"
          ]
        }
      ]
    },
    {
      "cell_type": "code",
      "source": [
        "#Mutability\n",
        "a = ['sam','raj',45,34.89,12,67]\n",
        "print(a)\n",
        "a[1]='garima'\n",
        "print(a)\n",
        "a[3]=45.912\n",
        "print(a)"
      ],
      "metadata": {
        "colab": {
          "base_uri": "https://localhost:8080/"
        },
        "id": "MHl3g5enJhny",
        "outputId": "9962fd09-1901-4ced-f334-6473e97fea98"
      },
      "execution_count": null,
      "outputs": [
        {
          "output_type": "stream",
          "name": "stdout",
          "text": [
            "['sam', 'raj', 45, 34.89, 12, 67]\n",
            "['sam', 'garima', 45, 34.89, 12, 67]\n",
            "['sam', 'garima', 45, 45.912, 12, 67]\n"
          ]
        }
      ]
    },
    {
      "cell_type": "code",
      "source": [
        "a= ['sam','raj',45,34.89,12,67]\n",
        "if 'rahul' in a:\n",
        "  print('yes')\n",
        "else:\n",
        "  print('no')"
      ],
      "metadata": {
        "colab": {
          "base_uri": "https://localhost:8080/"
        },
        "id": "7IL18T8jN2Bq",
        "outputId": "2bc6ac07-db72-4ab7-8ad9-f4aef9a4ccf9"
      },
      "execution_count": null,
      "outputs": [
        {
          "output_type": "stream",
          "name": "stdout",
          "text": [
            "no\n"
          ]
        }
      ]
    },
    {
      "cell_type": "code",
      "source": [
        "a = ['sam','raj',45,34.89,12,67]\n",
        "for i in a:\n",
        "  print(i)"
      ],
      "metadata": {
        "colab": {
          "base_uri": "https://localhost:8080/"
        },
        "id": "MgnaJtBPQ__1",
        "outputId": "39d06848-a02d-49e2-fca9-f4c4ef537497"
      },
      "execution_count": null,
      "outputs": [
        {
          "output_type": "stream",
          "name": "stdout",
          "text": [
            "sam\n",
            "raj\n",
            "45\n",
            "34.89\n",
            "12\n",
            "67\n"
          ]
        }
      ]
    },
    {
      "cell_type": "code",
      "source": [
        "a = ['sam','raj',45,34.89,12,67]\n",
        "for i in a:\n",
        "  print(i,end=\",\")"
      ],
      "metadata": {
        "colab": {
          "base_uri": "https://localhost:8080/"
        },
        "id": "7fL7CfpIQYOy",
        "outputId": "3cbd44c5-187a-47b4-b5dc-4ce6392c26c0"
      },
      "execution_count": null,
      "outputs": [
        {
          "output_type": "stream",
          "name": "stdout",
          "text": [
            "sam,raj,45,34.89,12,67,"
          ]
        }
      ]
    },
    {
      "cell_type": "code",
      "source": [
        "len(a)"
      ],
      "metadata": {
        "colab": {
          "base_uri": "https://localhost:8080/"
        },
        "id": "dzBfHqZERnUP",
        "outputId": "d99e9317-632b-49e5-9aaf-966ec1afc172"
      },
      "execution_count": null,
      "outputs": [
        {
          "output_type": "execute_result",
          "data": {
            "text/plain": [
              "6"
            ]
          },
          "metadata": {},
          "execution_count": 15
        }
      ]
    },
    {
      "cell_type": "code",
      "source": [
        "for i in range (len(a)):\n",
        "  print(a[i])"
      ],
      "metadata": {
        "colab": {
          "base_uri": "https://localhost:8080/"
        },
        "id": "hCDpsXirR3UF",
        "outputId": "642c0c8c-6249-475a-8428-8859b4f9ee4c"
      },
      "execution_count": null,
      "outputs": [
        {
          "output_type": "stream",
          "name": "stdout",
          "text": [
            "sam\n",
            "raj\n",
            "45\n",
            "34.89\n",
            "12\n",
            "67\n"
          ]
        }
      ]
    },
    {
      "cell_type": "markdown",
      "source": [
        "**List properties**"
      ],
      "metadata": {
        "id": "DXHNWU3uTxAK"
      }
    },
    {
      "cell_type": "code",
      "source": [
        "#List Properties\n",
        "# (1).concatenation\n",
        "a=[1,2,3]\n",
        "b=[4,5,6]\n",
        "c=a+b\n",
        "print(c)"
      ],
      "metadata": {
        "colab": {
          "base_uri": "https://localhost:8080/"
        },
        "id": "jz6YFT4cSHiN",
        "outputId": "39db193b-a9d4-41db-e585-500063faf4fd"
      },
      "execution_count": null,
      "outputs": [
        {
          "output_type": "stream",
          "name": "stdout",
          "text": [
            "[1, 2, 3, 4, 5, 6]\n"
          ]
        }
      ]
    },
    {
      "cell_type": "code",
      "source": [
        "#(2).replication\n",
        "a=[1,2,3]\n",
        "print(a*3)"
      ],
      "metadata": {
        "colab": {
          "base_uri": "https://localhost:8080/"
        },
        "id": "Ylfzv9KwTOkK",
        "outputId": "b3a47be1-cb87-4633-c5b9-7d9775a02e4f"
      },
      "execution_count": null,
      "outputs": [
        {
          "output_type": "stream",
          "name": "stdout",
          "text": [
            "[1, 2, 3, 1, 2, 3, 1, 2, 3]\n"
          ]
        }
      ]
    },
    {
      "cell_type": "markdown",
      "source": [
        "**Function** **in** **python**"
      ],
      "metadata": {
        "id": "Yml2V63uTr9_"
      }
    },
    {
      "cell_type": "code",
      "source": [
        "#(1).len()--> it will be return length of a list.\n",
        "a = [1,67,90]\n",
        "len(a)"
      ],
      "metadata": {
        "colab": {
          "base_uri": "https://localhost:8080/"
        },
        "id": "J4ERAErDTmJm",
        "outputId": "2d73b43c-6e50-465c-ac43-fca0b79f9b71"
      },
      "execution_count": null,
      "outputs": [
        {
          "output_type": "execute_result",
          "data": {
            "text/plain": [
              "3"
            ]
          },
          "metadata": {},
          "execution_count": 22
        }
      ]
    },
    {
      "cell_type": "code",
      "source": [
        "#(2).Index-->it will return indexing of an element that present in a list.\n",
        "a = ['sam',12,56]\n",
        "a.index(56)"
      ],
      "metadata": {
        "colab": {
          "base_uri": "https://localhost:8080/"
        },
        "id": "ubeeiOcCVDft",
        "outputId": "a1e9284c-c166-4a06-ccee-58fe5280fbf6"
      },
      "execution_count": null,
      "outputs": [
        {
          "output_type": "execute_result",
          "data": {
            "text/plain": [
              "2"
            ]
          },
          "metadata": {},
          "execution_count": 23
        }
      ]
    },
    {
      "cell_type": "code",
      "source": [
        "#(3).append--> this method will add element in the last indexing of list.\n",
        "a = ['sam','purvi',56]\n",
        "print(a)\n",
        "a.append('raj')\n",
        "print(a)\n",
        "a.append('sahil')\n",
        "print(a)"
      ],
      "metadata": {
        "colab": {
          "base_uri": "https://localhost:8080/"
        },
        "id": "8mtAQcuMV9UE",
        "outputId": "0c273163-9589-46a9-aecd-adcd212cf757"
      },
      "execution_count": null,
      "outputs": [
        {
          "output_type": "stream",
          "name": "stdout",
          "text": [
            "['sam', 'purvi', 56]\n",
            "['sam', 'purvi', 56, 'raj']\n",
            "['sam', 'purvi', 56, 'raj', 'sahil']\n"
          ]
        }
      ]
    },
    {
      "cell_type": "code",
      "source": [
        "# (4).insert(index,object)-->this method will add element in the given indexing.\n",
        "a = ['sam','raj','rahul']\n",
        "print(a)\n",
        "a.insert(1,'purvi')\n",
        "print(a)"
      ],
      "metadata": {
        "colab": {
          "base_uri": "https://localhost:8080/"
        },
        "id": "wjqN-jHQW7CK",
        "outputId": "36ff422e-f831-49c1-9f09-4c57305a9fa9"
      },
      "execution_count": null,
      "outputs": [
        {
          "output_type": "stream",
          "name": "stdout",
          "text": [
            "['sam', 'raj', 'rahul']\n",
            "['sam', 'purvi', 'raj', 'rahul']\n"
          ]
        }
      ]
    },
    {
      "cell_type": "code",
      "source": [
        "# (5).min()--->it wil be return minmum value of a list.\n",
        "a =[1,2,3]\n",
        "print(min(a))"
      ],
      "metadata": {
        "colab": {
          "base_uri": "https://localhost:8080/"
        },
        "id": "XBBZY4vecGIq",
        "outputId": "7be1ab8f-91be-44fa-fe94-5ba4aec725de"
      },
      "execution_count": null,
      "outputs": [
        {
          "output_type": "stream",
          "name": "stdout",
          "text": [
            "1\n"
          ]
        }
      ]
    },
    {
      "cell_type": "code",
      "source": [
        "# (6).max()-->it will be return maxmum value of a list.\n",
        "a = [1,3,2]\n",
        "print(max(a))"
      ],
      "metadata": {
        "colab": {
          "base_uri": "https://localhost:8080/"
        },
        "id": "WMYjHzXJcn7y",
        "outputId": "ddda13a7-77a1-4174-fe07-84b8d046e795"
      },
      "execution_count": null,
      "outputs": [
        {
          "output_type": "stream",
          "name": "stdout",
          "text": [
            "3\n"
          ]
        }
      ]
    },
    {
      "cell_type": "code",
      "source": [
        "# (7).sort--> it will return a list in which element are arranged in ascending order.\n",
        "a = [1,7,3,2,5,4]\n",
        "print(a)\n",
        "a.sort()\n",
        "print(a)"
      ],
      "metadata": {
        "colab": {
          "base_uri": "https://localhost:8080/"
        },
        "id": "WjfR_WIrc5pv",
        "outputId": "5bd3db63-a40c-4c7a-c0d6-3b23dda6a00f"
      },
      "execution_count": null,
      "outputs": [
        {
          "output_type": "stream",
          "name": "stdout",
          "text": [
            "[1, 7, 3, 2, 5, 4]\n",
            "[1, 2, 3, 4, 5, 7]\n"
          ]
        }
      ]
    },
    {
      "cell_type": "code",
      "source": [
        "# (8).reverse()-->it will return a list in which element position will be reverse.\n",
        "a = [1,2,3,4]\n",
        "print(a)\n",
        "a.reverse()\n",
        "print(a)"
      ],
      "metadata": {
        "colab": {
          "base_uri": "https://localhost:8080/"
        },
        "id": "3wew3_yLdhUH",
        "outputId": "6b4bbfa1-ed64-4a3c-f60a-851de69c0c56"
      },
      "execution_count": null,
      "outputs": [
        {
          "output_type": "stream",
          "name": "stdout",
          "text": [
            "[1, 2, 3, 4]\n",
            "[4, 3, 2, 1]\n"
          ]
        }
      ]
    },
    {
      "cell_type": "code",
      "source": [
        "# (9).pop()--->it will delete from last indexing.\n",
        "a = [1,2,3,4]\n",
        "print(a)\n",
        "a.pop()\n",
        "print(a)\n",
        "a.pop()\n",
        "print(a)"
      ],
      "metadata": {
        "colab": {
          "base_uri": "https://localhost:8080/"
        },
        "id": "TuDFe0e5d-xN",
        "outputId": "647856eb-f4e3-4e50-9b6f-2177a4696a6c"
      },
      "execution_count": null,
      "outputs": [
        {
          "output_type": "stream",
          "name": "stdout",
          "text": [
            "[1, 2, 3, 4]\n",
            "[1, 2, 3]\n",
            "[1, 2]\n"
          ]
        }
      ]
    },
    {
      "cell_type": "code",
      "source": [
        "# (10).remove()-->it will delete element in a list.\n",
        "a = ['sam','gorav','aniket',44,67]\n",
        "print(a)\n",
        "a.remove('sam')\n",
        "print(a)\n",
        "a.remove(44)\n",
        "print(a)\n"
      ],
      "metadata": {
        "colab": {
          "base_uri": "https://localhost:8080/"
        },
        "id": "EZmswE_-ebS8",
        "outputId": "0303d86f-a773-48a7-e3ad-ef8efbf1c915"
      },
      "execution_count": null,
      "outputs": [
        {
          "output_type": "stream",
          "name": "stdout",
          "text": [
            "['sam', 'gorav', 'aniket', 44, 67]\n",
            "['gorav', 'aniket', 44, 67]\n",
            "['gorav', 'aniket', 67]\n"
          ]
        }
      ]
    },
    {
      "cell_type": "markdown",
      "source": [
        "Q.write a python program to calculate the tatal bill at a grocery store.the user can input prices for 5 items,and if the total price $100,a discount of 10% is applied."
      ],
      "metadata": {
        "id": "OVg5okd3o6ZL"
      }
    },
    {
      "cell_type": "code",
      "source": [
        "total_price = 0\n",
        "item = int(input(\"Enter a numbe\"))\n",
        "for i in range(item):\n",
        "  price = float(input(f\"Enter a price item {i+1}:\"))\n",
        "  total_price += price\n",
        "if total_price > 100:\n",
        "  total_price *= 0.9 #Apply 10% discount\n",
        "print(f\"Total bill after discount (if applicable):${total_price:.2f}\")"
      ],
      "metadata": {
        "colab": {
          "base_uri": "https://localhost:8080/"
        },
        "id": "EmqIXHuvo5tQ",
        "outputId": "ad776546-fb99-40e9-e56b-8ccc16bb5797"
      },
      "execution_count": null,
      "outputs": [
        {
          "output_type": "stream",
          "name": "stdout",
          "text": [
            "Enter a numbe3\n",
            "Enter a price item 1:22\n",
            "Enter a price item 2:33\n",
            "Enter a price item 3:55\n",
            "Total bill after discount (if applicable):$99.00\n"
          ]
        }
      ]
    },
    {
      "cell_type": "markdown",
      "source": [
        "Q.Create a program that asks a student to input their grade (0-100)and classify them into \"fail\",\"pass\"or\"Excelllent\"using conditionl statements.(fail:<40,pass:40-80,Excellent:>80)"
      ],
      "metadata": {
        "id": "j18Fd21mtLaJ"
      }
    },
    {
      "cell_type": "code",
      "source": [
        "grade=int(input(\"enter number\"))\n",
        "if grade>80:\n",
        "  print(\"Excelllent\")\n",
        "elif grade>80 or grade>40:\n",
        "  print(\"Pass\")\n",
        "else:\n",
        "  print(\"Fail\")"
      ],
      "metadata": {
        "id": "9iMAex0Zf5Ht",
        "colab": {
          "base_uri": "https://localhost:8080/"
        },
        "outputId": "b62d310b-4ad1-4106-8df0-678c60edfea3"
      },
      "execution_count": null,
      "outputs": [
        {
          "output_type": "stream",
          "name": "stdout",
          "text": [
            "enter number60\n",
            "Pass\n"
          ]
        }
      ]
    },
    {
      "cell_type": "markdown",
      "source": [
        "Q.You have a list of employee name and a corresponding list of their salaries.Write a pyhton program to print each empolyee's name along with their salary using a loop."
      ],
      "metadata": {
        "id": "7fLSamu9uLS7"
      }
    },
    {
      "cell_type": "code",
      "source": [
        "employee = ['sam','raj','mohit','pooja']\n",
        "salariess = [50000,60000,55000,75000]\n",
        "for i in range(len(employee)):\n",
        "  print(f\"Employee:{employee[i]}'s salary is Rs:{salariess[i]}\")"
      ],
      "metadata": {
        "colab": {
          "base_uri": "https://localhost:8080/"
        },
        "id": "dY5JhWkiu-Wa",
        "outputId": "e47f3b67-f28a-45fd-af1f-3655d5e66382"
      },
      "execution_count": null,
      "outputs": [
        {
          "output_type": "stream",
          "name": "stdout",
          "text": [
            "Employee:sam's salary is Rs:50000\n",
            "Employee:raj's salary is Rs:60000\n",
            "Employee:mohit's salary is Rs:55000\n",
            "Employee:pooja's salary is Rs:75000\n"
          ]
        }
      ]
    },
    {
      "cell_type": "markdown",
      "source": [
        "Q.Write a python program that keep asking the user to input a password.The password must contain at least 8 characters.if it's less,the program should ask again until a vaild password is entered."
      ],
      "metadata": {
        "id": "cx_pj3QvxTav"
      }
    },
    {
      "cell_type": "code",
      "source": [
        "while True:\n",
        "  password =  input(\"Enter a password (minimum 8 characters): \")\n",
        "  if len(password) >=8:\n",
        "    print(\"password accpted\")\n",
        "    break\n",
        "  else:\n",
        "      print(\"password too short.Try again.\")\n"
      ],
      "metadata": {
        "colab": {
          "base_uri": "https://localhost:8080/"
        },
        "id": "4FWf6O28MIdi",
        "outputId": "5d8af613-779b-4021-b73a-7a9661aa0dd6"
      },
      "execution_count": null,
      "outputs": [
        {
          "output_type": "stream",
          "name": "stdout",
          "text": [
            "Enter a password (minimum 8 characters): 1234\n",
            "password too short.Try again.\n",
            "Enter a password (minimum 8 characters): 12345678\n",
            "password accpted\n"
          ]
        }
      ]
    },
    {
      "cell_type": "markdown",
      "source": [
        "Q.Create a list to store daily tasks.allow the user to add 5 tasks one by one,then display the list of tasks."
      ],
      "metadata": {
        "id": "J6nxE04-y5ij"
      }
    },
    {
      "cell_type": "code",
      "source": [
        "tasks = []\n",
        "for i in range(5):\n",
        "  task = input(f\"Enter task {i+1}: \")\n",
        "  tasks.append(task)\n",
        "\n",
        "print(\"Your tasks for today are:\")\n",
        "for task in tasks:\n",
        "  print(f\"-{task}\")"
      ],
      "metadata": {
        "id": "E024q_ajP1xL",
        "colab": {
          "base_uri": "https://localhost:8080/"
        },
        "outputId": "e7568891-7476-4b02-d91c-70a6872559f9"
      },
      "execution_count": null,
      "outputs": [
        {
          "output_type": "stream",
          "name": "stdout",
          "text": [
            "Enter task 1: Reading books\n",
            "Enter task 2: physics \n",
            "Enter task 3: math\n",
            "Enter task 4: English\n",
            "Enter task 5: AI\n",
            "Your tasks for today are:\n",
            "-Reading books\n",
            "-physics \n",
            "-math\n",
            "-English\n",
            "-AI\n"
          ]
        }
      ]
    },
    {
      "cell_type": "markdown",
      "source": [
        "Q.given two number a and b,Write a python program to swap their values using a list."
      ],
      "metadata": {
        "id": "PsnP6mlRzgIK"
      }
    },
    {
      "cell_type": "code",
      "source": [
        "a = int(input(\"Enter a number:\"))\n",
        "b = int(input(\"Enter b number:\"))\n",
        "print(f\"before swapping:a={a},b={b}\")\n",
        "a,b=b,a\n",
        "print(f\"after swapping:a={a},b={b}\")"
      ],
      "metadata": {
        "id": "pHfI9SB9R5mr",
        "colab": {
          "base_uri": "https://localhost:8080/"
        },
        "outputId": "d492482b-4f3e-4194-d090-6cc35ee4b69f"
      },
      "execution_count": null,
      "outputs": [
        {
          "output_type": "stream",
          "name": "stdout",
          "text": [
            "Enter a number:23\n",
            "Enter b number:32\n",
            "before swapping:a=23,b=32\n",
            "after swapping:a=32,b=23\n"
          ]
        }
      ]
    },
    {
      "cell_type": "code",
      "source": [
        "# (1).filtering out odd numbers\n",
        "# problem:you have a list of number,and you need to create a new list that only contains even numbers.\n",
        "\n",
        "# Input Example:\n",
        "# number = [10,25,36,47,52,63,78]\n",
        "\n",
        "# Output Example:\n",
        "# [10,36,52,78]\n",
        "\n"
      ],
      "metadata": {
        "id": "6E0JryfGdEC7"
      },
      "execution_count": null,
      "outputs": []
    },
    {
      "cell_type": "code",
      "source": [
        "number = [10,25,36,47,52,63,78]\n",
        "even_number = []\n",
        "odd_number = []\n",
        "for i in number:\n",
        "  if i%2==0:\n",
        "    even_number.append(i)\n",
        "  else:\n",
        "    odd_number.append(i)\n",
        "print(\"even number:\",even_number)\n",
        "print(\"odd number:\",odd_number)\n"
      ],
      "metadata": {
        "colab": {
          "base_uri": "https://localhost:8080/"
        },
        "id": "QCuN6L8yez7d",
        "outputId": "318ac5fd-99c0-4f44-9db4-34d0c4ba18fa"
      },
      "execution_count": null,
      "outputs": [
        {
          "output_type": "stream",
          "name": "stdout",
          "text": [
            "even number: [10, 36, 52, 78]\n",
            "odd number: [25, 47, 63]\n"
          ]
        }
      ]
    },
    {
      "cell_type": "code",
      "source": [
        "# (2). Categorizing Product Prices\n",
        "# problem:you have a list of product prices, and you need to categorize each product based on its price:\n",
        "# price > 1000 -> \"Expensive\"\n",
        "# price > 500 and < 1000 ->  \"Moderate\"\n",
        "\n",
        "# Input Example:\n",
        "# prices = [1200,800,450,300,950,2000]\n",
        "\n",
        "# Output Example:\n",
        "# [\"Expensive\",\"moderate\",\"cheap\",\"cheap\",\"moderate\",\"Expensive\"]\n"
      ],
      "metadata": {
        "id": "gbGXIKUHf3oo"
      },
      "execution_count": null,
      "outputs": []
    },
    {
      "cell_type": "code",
      "source": [
        "prices = [1200,800,450,300,950,2000]\n",
        "categories = []\n",
        "\n",
        "for price in prices:\n",
        "  if price > 1000:\n",
        "    categories.append(\"Expensive\")\n",
        "  elif 500<= price <= 1000:\n",
        "    categories.append(\"Moderate\")\n",
        "  else:\n",
        "    categories.append(\"cheap\")\n",
        "print(\"Price Categories\",categories)\n"
      ],
      "metadata": {
        "colab": {
          "base_uri": "https://localhost:8080/"
        },
        "id": "XoIvV-qAjYaK",
        "outputId": "87e1d125-8c7b-4124-b6da-c848f00f1cdf"
      },
      "execution_count": null,
      "outputs": [
        {
          "output_type": "stream",
          "name": "stdout",
          "text": [
            "Price Categories ['Expensive', 'Moderate', 'cheap', 'cheap', 'Moderate', 'Expensive']\n"
          ]
        }
      ]
    },
    {
      "cell_type": "code",
      "source": [
        "#(3). Counting the number of Vowel in a sentence\n",
        "# Problem: Given a  Sentence, count how many vowel (a,e,i,o,u) are present in the sentence.\n",
        "\n",
        "# Input Example:\n",
        "# sentence = \"Hello,how are you?\"\n",
        "\n",
        "# Output Example:\n",
        "# Total vowels:7"
      ],
      "metadata": {
        "id": "SSRRHk7rMc8z"
      },
      "execution_count": null,
      "outputs": []
    },
    {
      "cell_type": "code",
      "source": [
        "sentence = \"Hello,how are you?\"\n",
        "vowels = \"aeiouAEIOU\"\n",
        "count = 0\n",
        "consonant = 0\n",
        "\n",
        "for char in sentence:\n",
        "  if char in vowels:\n",
        "    count += 1\n",
        "  else:\n",
        "      consonant += 1\n",
        "print(\"Total vowels:\",count)\n",
        "print(\"Total consonant:\",consonant)"
      ],
      "metadata": {
        "colab": {
          "base_uri": "https://localhost:8080/"
        },
        "id": "o8f8Uc2qTmTF",
        "outputId": "91c7ac77-cd89-4018-8c3a-9d40b0b0435f"
      },
      "execution_count": null,
      "outputs": [
        {
          "output_type": "stream",
          "name": "stdout",
          "text": [
            "Total vowels: 7\n",
            "Total consonant: 11\n"
          ]
        }
      ]
    },
    {
      "cell_type": "code",
      "source": [
        "#(4). Identifying passengers Eligible for Discount\n",
        "# problem: A metro system gives discount to senior citizens (age>=60).give a list of ages,\n",
        "# determine who gets a discount.\n",
        "\n",
        "# Input Example:\n",
        "# ages = [25,60,75,40,90,58]\n",
        "\n",
        "# output Example:\n",
        "# [False,True,True,False,True,False]"
      ],
      "metadata": {
        "id": "8q7Hs23vVKaG"
      },
      "execution_count": null,
      "outputs": []
    },
    {
      "cell_type": "code",
      "source": [
        "ages =[25,60,75,40,90,58]\n",
        "discount = []\n",
        "for age in ages:\n",
        "  if age >= 60:\n",
        "    discount.append(True)\n",
        "  else:\n",
        "    discount.append(False)\n",
        "print(\"Discount Eligibility:\",discount)"
      ],
      "metadata": {
        "colab": {
          "base_uri": "https://localhost:8080/"
        },
        "id": "xmDXSmyJWyYW",
        "outputId": "59c56a13-eda1-45cd-87da-1741c81774cb"
      },
      "execution_count": null,
      "outputs": [
        {
          "output_type": "stream",
          "name": "stdout",
          "text": [
            "Discount Eligibility: [False, True, True, False, True, False]\n"
          ]
        }
      ]
    },
    {
      "cell_type": "code",
      "source": [
        "# (5).checking Palindromes words in a list\n",
        "# problem:\n",
        "# you have a list of words, and you need to check\n",
        "# which words are palindromes (words that read the same forward and backward).\n",
        "\n",
        "# Input :\n",
        "# word=[\"madam\",\"hello\",\"level\",\"python\",\"racecar\"]\n",
        "\n",
        "# Output:\n",
        "# [Ture,False,True,False,True]"
      ],
      "metadata": {
        "id": "l-ukvBDYZOIW"
      },
      "execution_count": null,
      "outputs": []
    },
    {
      "cell_type": "code",
      "source": [
        "word = [\"madam\",\"hello\",\"level\",\"python\",\"racecar\"]\n",
        "palindromes_check = []\n",
        "for i in word:\n",
        "  if i == i[::-1]:\n",
        "    palindromes_check.append(True)\n",
        "  else:\n",
        "    palindromes_check.append(False)\n",
        "print(\"Palindromes check:\",palindromes_check)\n",
        "\n"
      ],
      "metadata": {
        "colab": {
          "base_uri": "https://localhost:8080/"
        },
        "id": "VMDmHqsMa1-e",
        "outputId": "e841c488-9022-49dd-d466-d6ce733817f7"
      },
      "execution_count": null,
      "outputs": [
        {
          "output_type": "stream",
          "name": "stdout",
          "text": [
            "Palindromes check: [True, False, True, False, True]\n"
          ]
        }
      ]
    },
    {
      "cell_type": "code",
      "source": [
        "# (6).Categorizing Temperatures\n",
        "# problem:\n",
        "# You have a list of temperatures recorded in a week, and you need a categorize them as:\n",
        "\n",
        "# \"cold\" -> Temperature < 15'C\n",
        "# \"warm\" -> Temperature between 15'C and 30'C\n",
        "# \"Hot\" -> Temperature > 30'C\n",
        "\n",
        "# Input:\n",
        "# temparature = [10,22,35,28,15,5,40]\n",
        "\n",
        "# Output:\n",
        "# [\"cold\",\"warm\",\"Hot\",\"warm\",\"warm\",\"cold\",\"Hot\"]\n"
      ],
      "metadata": {
        "id": "L-mw1jjNek7U"
      },
      "execution_count": null,
      "outputs": []
    },
    {
      "cell_type": "code",
      "source": [
        "temparature = [10,22,35,28,15,5,40]\n",
        "categorize = []\n",
        "for temp in temparature:\n",
        "  if temp < 15:\n",
        "    categorize.append(\"cold\")\n",
        "  elif temp >= 15 and temp <= 30:\n",
        "    categorize.append(\"warm\")\n",
        "  else:\n",
        "    categorize.append(\"Hot\")\n",
        "print(temparature)\n",
        "print(\"Temparature check:\",categorize)"
      ],
      "metadata": {
        "colab": {
          "base_uri": "https://localhost:8080/"
        },
        "id": "7Rq1Iz1Hh1vl",
        "outputId": "a96a556f-f63f-4be3-c1be-9e96ca85841c"
      },
      "execution_count": null,
      "outputs": [
        {
          "output_type": "stream",
          "name": "stdout",
          "text": [
            "[10, 22, 35, 28, 15, 5, 40]\n",
            "Temparature check: ['cold', 'warm', 'Hot', 'warm', 'warm', 'cold', 'Hot']\n"
          ]
        }
      ]
    },
    {
      "cell_type": "markdown",
      "source": [
        "Tuple in python---->\n",
        "\n",
        "(1).Identification = ().\n",
        "\n",
        "(2).Immutable data type-->we cannot change or update the values at a runtime.\n",
        "\n",
        "(3).This is a container in which we can store different-different types of element.\n",
        "\n",
        "(4).Indexing start from 0 and length start from 1."
      ],
      "metadata": {
        "id": "u_kSsmNO_yRY"
      }
    },
    {
      "cell_type": "code",
      "source": [
        "a = ('sam' , 45 , 'raj' , 78.48)\n",
        "type(a)"
      ],
      "metadata": {
        "id": "k9cKzFfTY82c",
        "colab": {
          "base_uri": "https://localhost:8080/"
        },
        "outputId": "1b2466d0-cf14-4dcc-e750-b2e30a92271f"
      },
      "execution_count": null,
      "outputs": [
        {
          "output_type": "execute_result",
          "data": {
            "text/plain": [
              "tuple"
            ]
          },
          "metadata": {},
          "execution_count": 1
        }
      ]
    },
    {
      "cell_type": "code",
      "source": [
        "### Indrexing and slicing\n",
        "print(a[0])   ### forward Indexing\n",
        "print(a[1])\n",
        "print(a[2])\n",
        "print(a[3])\n",
        "print(\"------\")\n",
        "print(a[-1])   ### Backward Indexing\n",
        "print(a[-2])\n",
        "print(a[-3])"
      ],
      "metadata": {
        "colab": {
          "base_uri": "https://localhost:8080/"
        },
        "id": "9Oz7GQfeR1i1",
        "outputId": "744858bb-a6f1-4d40-ec01-64f223d787d7"
      },
      "execution_count": null,
      "outputs": [
        {
          "output_type": "stream",
          "name": "stdout",
          "text": [
            "sam\n",
            "45\n",
            "raj\n",
            "78.48\n",
            "------\n",
            "78.48\n",
            "raj\n",
            "45\n"
          ]
        }
      ]
    },
    {
      "cell_type": "code",
      "source": [
        "print(a[1:3])"
      ],
      "metadata": {
        "colab": {
          "base_uri": "https://localhost:8080/"
        },
        "id": "bJyHdYNxR8xf",
        "outputId": "9893115b-e933-4155-b86b-765744360c5c"
      },
      "execution_count": null,
      "outputs": [
        {
          "output_type": "stream",
          "name": "stdout",
          "text": [
            "(45, 'raj')\n"
          ]
        }
      ]
    },
    {
      "cell_type": "code",
      "source": [
        "a = 56\n",
        "print(type(a))\n",
        "a = 56,\n",
        "print(type(a))"
      ],
      "metadata": {
        "colab": {
          "base_uri": "https://localhost:8080/"
        },
        "id": "LDbLPJ24SDW8",
        "outputId": "cc216192-91bf-4fa0-f7b7-95cd231b6b31"
      },
      "execution_count": null,
      "outputs": [
        {
          "output_type": "stream",
          "name": "stdout",
          "text": [
            "<class 'int'>\n",
            "<class 'tuple'>\n"
          ]
        }
      ]
    },
    {
      "cell_type": "code",
      "source": [
        "# Imuutable data type\n",
        "a = ('sam' , 45 , 'raj' , 78.48)\n",
        "print(a)\n",
        "# a[1] = 900\n",
        "b = list(a)\n",
        "print(b)\n",
        "b[1] = 9000\n",
        "print(b)\n",
        "c = tuple(b)\n",
        "print(c)"
      ],
      "metadata": {
        "colab": {
          "base_uri": "https://localhost:8080/"
        },
        "id": "niBRWDxySIh4",
        "outputId": "c0c9746c-b207-447c-ecf8-7b52e94c7659"
      },
      "execution_count": null,
      "outputs": [
        {
          "output_type": "stream",
          "name": "stdout",
          "text": [
            "('sam', 45, 'raj', 78.48)\n",
            "['sam', 45, 'raj', 78.48]\n",
            "['sam', 9000, 'raj', 78.48]\n",
            "('sam', 9000, 'raj', 78.48)\n"
          ]
        }
      ]
    },
    {
      "cell_type": "markdown",
      "source": [
        "**Properties** **of tuple**"
      ],
      "metadata": {
        "id": "OQL-7FinSdWR"
      }
    },
    {
      "cell_type": "code",
      "source": [
        "a = (1,2,3)   ### Concatenation\n",
        "b = (4,5,6)\n",
        "c = a + b\n",
        "c"
      ],
      "metadata": {
        "colab": {
          "base_uri": "https://localhost:8080/"
        },
        "id": "RSDJKDM4STID",
        "outputId": "38baf713-c2b1-4bea-c338-c6cd1431e21f"
      },
      "execution_count": null,
      "outputs": [
        {
          "output_type": "execute_result",
          "data": {
            "text/plain": [
              "(1, 2, 3, 4, 5, 6)"
            ]
          },
          "metadata": {},
          "execution_count": 6
        }
      ]
    },
    {
      "cell_type": "code",
      "source": [
        "# (2). Replication\n",
        "a = (1,2,3)\n",
        "a*3"
      ],
      "metadata": {
        "colab": {
          "base_uri": "https://localhost:8080/"
        },
        "id": "Q9JYJmB9S0AQ",
        "outputId": "08a99a9f-d89e-4264-f43f-7a117da1a214"
      },
      "execution_count": null,
      "outputs": [
        {
          "output_type": "execute_result",
          "data": {
            "text/plain": [
              "(1, 2, 3, 1, 2, 3, 1, 2, 3)"
            ]
          },
          "metadata": {},
          "execution_count": 7
        }
      ]
    },
    {
      "cell_type": "markdown",
      "source": [
        "**Functions of tuple**"
      ],
      "metadata": {
        "id": "w6i1CwQuTCRL"
      }
    },
    {
      "cell_type": "code",
      "source": [
        "# (1). len() ----> It will return length of a tuple .\n",
        "a = ('sam' , 45 , 'raj' , 78.48)\n",
        "len(a)"
      ],
      "metadata": {
        "colab": {
          "base_uri": "https://localhost:8080/"
        },
        "id": "xvmHUdtiVzsw",
        "outputId": "65950ed6-03cf-436d-e464-65a2b16c747c"
      },
      "execution_count": null,
      "outputs": [
        {
          "output_type": "execute_result",
          "data": {
            "text/plain": [
              "4"
            ]
          },
          "metadata": {},
          "execution_count": 14
        }
      ]
    },
    {
      "cell_type": "code",
      "source": [
        "# (2). index() ----> It will return indexing of an element .\n",
        "a = ('sam' , 45 , 'raj' , 78.48)\n",
        "a.index(45)"
      ],
      "metadata": {
        "colab": {
          "base_uri": "https://localhost:8080/"
        },
        "id": "vloue1bIW6aW",
        "outputId": "f0289985-6c02-44eb-d069-1d2ba69a7bba"
      },
      "execution_count": null,
      "outputs": [
        {
          "output_type": "execute_result",
          "data": {
            "text/plain": [
              "1"
            ]
          },
          "metadata": {},
          "execution_count": 16
        }
      ]
    },
    {
      "cell_type": "code",
      "source": [
        "# (3). count() ----> It will return frequency of element .\n",
        "a = ('sam' , 45 , 'raj' , 78.48 , 45 , 45)\n",
        "a.count(45)"
      ],
      "metadata": {
        "colab": {
          "base_uri": "https://localhost:8080/"
        },
        "id": "jZB2WB-GW_ls",
        "outputId": "59377f4a-3f93-4ec5-98a3-7e4fb139613d"
      },
      "execution_count": null,
      "outputs": [
        {
          "output_type": "execute_result",
          "data": {
            "text/plain": [
              "3"
            ]
          },
          "metadata": {},
          "execution_count": 17
        }
      ]
    },
    {
      "cell_type": "code",
      "source": [
        "# (4). min() ---> It will return  minimum value of a tuple .\n",
        "a = (1,2,3)\n",
        "min(a)"
      ],
      "metadata": {
        "colab": {
          "base_uri": "https://localhost:8080/"
        },
        "id": "YzA0lvwzXHHf",
        "outputId": "f17fe3d8-2d86-45a1-c2c2-d8e1b6e665f3"
      },
      "execution_count": null,
      "outputs": [
        {
          "output_type": "execute_result",
          "data": {
            "text/plain": [
              "1"
            ]
          },
          "metadata": {},
          "execution_count": 18
        }
      ]
    },
    {
      "cell_type": "code",
      "source": [
        "# (5). max() ----> It will return maximum value of a tuple .\n",
        "a = (1,2,3)\n",
        "max(a)"
      ],
      "metadata": {
        "colab": {
          "base_uri": "https://localhost:8080/"
        },
        "id": "aeVisSwEXUfC",
        "outputId": "af50113e-859a-4c3d-c951-27392befceb8"
      },
      "execution_count": null,
      "outputs": [
        {
          "output_type": "execute_result",
          "data": {
            "text/plain": [
              "3"
            ]
          },
          "metadata": {},
          "execution_count": 19
        }
      ]
    },
    {
      "cell_type": "markdown",
      "source": [
        "Q.1 How can we create a user-defined tuple ?"
      ],
      "metadata": {
        "id": "gA4s_b8vTKMV"
      }
    },
    {
      "cell_type": "code",
      "source": [
        "a = []\n",
        "size = int(input(\"Enter size:\"))\n",
        "for i in range(size):\n",
        "    val = input(\"Enter item:\")\n",
        "    a.append(val)\n",
        "# print(a)\n",
        "b = tuple(a)\n",
        "print(b)"
      ],
      "metadata": {
        "colab": {
          "base_uri": "https://localhost:8080/"
        },
        "id": "S_0PL-C6S4m3",
        "outputId": "d93c8356-a2b3-45f7-cd2f-6b6e085b9347"
      },
      "execution_count": null,
      "outputs": [
        {
          "output_type": "stream",
          "name": "stdout",
          "text": [
            "Enter size:3\n",
            "Enter item:sam\n",
            "Enter item:good\n",
            "Enter item:46\n",
            "('sam', 'good', '46')\n"
          ]
        }
      ]
    },
    {
      "cell_type": "markdown",
      "source": [
        "Q.2 Create a user-defined tuple in which user can add or delete an item ."
      ],
      "metadata": {
        "id": "Rw_xor7NTtcR"
      }
    },
    {
      "cell_type": "code",
      "source": [
        "a = []\n",
        "size = int(input(\"Enter size:\"))\n",
        "for i in range(size):\n",
        "    val = input(\"Enter item:\")\n",
        "    a.append(val)\n",
        "# print(a)\n",
        "b = tuple(a)\n",
        "print(b)\n",
        "c = input(\"Which item you want to delete::\")\n",
        "d = list(b)\n",
        "# print(d)\n",
        "d.remove(c)\n",
        "# print(d)\n",
        "e = tuple(d)\n",
        "print(e)"
      ],
      "metadata": {
        "colab": {
          "base_uri": "https://localhost:8080/"
        },
        "id": "U3dwDg_jT0FR",
        "outputId": "0505f2d4-a276-412e-e30c-3729dad4533a"
      },
      "execution_count": null,
      "outputs": [
        {
          "output_type": "stream",
          "name": "stdout",
          "text": [
            "Enter size:4\n",
            "Enter item:sam\n",
            "Enter item:gorav\n",
            "Enter item:aniket\n",
            "Enter item:khushi\n",
            "('sam', 'gorav', 'aniket', 'khushi')\n",
            "Which item you want to delete::khushi\n",
            "('sam', 'gorav', 'aniket')\n"
          ]
        }
      ]
    },
    {
      "cell_type": "code",
      "source": [
        "a = ['sam' , 'gorav' , 'aniket' , 'lokesh']\n",
        "print(a)\n",
        "size = int(input(\"how many elements you want to delete:\"))\n",
        "for i in range(size):\n",
        "    val = input(\"Which item you want to delete:\")\n",
        "    a.remove(val)\n",
        "print(a)\n"
      ],
      "metadata": {
        "colab": {
          "base_uri": "https://localhost:8080/"
        },
        "id": "VWjieO1SUONr",
        "outputId": "9d25eac7-8911-4a3e-a36a-0fb82573465a"
      },
      "execution_count": null,
      "outputs": [
        {
          "output_type": "stream",
          "name": "stdout",
          "text": [
            "['sam', 'gorav', 'aniket', 'lokesh']\n",
            "how many elements you want to delete:2\n",
            "Which item you want to delete:sam\n",
            "Which item you want to delete:aniket\n",
            "['gorav', 'lokesh']\n"
          ]
        }
      ]
    },
    {
      "cell_type": "code",
      "source": [
        "b = ('sam' , 'gorav' , 'aniket' , 'lokesh')\n",
        "print(b)\n",
        "a = ['sam' , 'gorav' , 'aniket' , 'lokesh']\n",
        "# print(a)\n",
        "size = int(input(\"how many elements you want to delete:\"))\n",
        "for i in range(size):\n",
        "    val = input(\"Which item you want to delete:\")\n",
        "    a.remove(val)\n",
        "# print(a)\n",
        "c = tuple(a)\n",
        "print(c)"
      ],
      "metadata": {
        "colab": {
          "base_uri": "https://localhost:8080/"
        },
        "id": "BEDvHlXTUexw",
        "outputId": "9a143745-00f4-4b62-affe-868c6af8d32c"
      },
      "execution_count": null,
      "outputs": [
        {
          "output_type": "stream",
          "name": "stdout",
          "text": [
            "('sam', 'gorav', 'aniket', 'lokesh')\n",
            "how many elements you want to delete:2\n",
            "Which item you want to delete:sam\n",
            "Which item you want to delete:lokesh\n",
            "('gorav', 'aniket')\n"
          ]
        }
      ]
    },
    {
      "cell_type": "code",
      "source": [
        "b = ('sam' , 'gorav' , 'aniket' , 'lokesh')\n",
        "print(b)\n",
        "a = ['sam' , 'gorav' , 'aniket' , 'lokesh']\n",
        "# print(a)\n",
        "size = int(input(\"how many elements you want to add:\"))\n",
        "for i in range(size):\n",
        "    val = input(\"Which item you want to add:\")\n",
        "    a.append(val)\n",
        "# print(a)\n",
        "c = tuple(a)\n",
        "print(c)"
      ],
      "metadata": {
        "colab": {
          "base_uri": "https://localhost:8080/"
        },
        "id": "6X8lRfLOUw3M",
        "outputId": "541a36a0-68be-400a-fb0c-071b78493494"
      },
      "execution_count": null,
      "outputs": [
        {
          "output_type": "stream",
          "name": "stdout",
          "text": [
            "('sam', 'gorav', 'aniket', 'lokesh')\n",
            "how many elements you want to add:2\n",
            "Which item you want to add:sumit\n",
            "Which item you want to add:garvit\n",
            "('sam', 'gorav', 'aniket', 'lokesh', 'sumit', 'garvit')\n"
          ]
        }
      ]
    },
    {
      "cell_type": "markdown",
      "source": [
        "(1).Sales performance Analysis\n",
        "\n",
        "Problem statement:\n",
        "\n",
        "A company tracks the monthly sales of 6 employees in a list.\n",
        "your task is to determine which employees achieved\n",
        "sales above 5000 units.\n",
        "\n",
        "Example Input:\n",
        "sales = [4500,6000,3000,8000,5500,4200]\n",
        "\n",
        "Expected Output:\n",
        "[\"Employee 2\",\"Employee 4\",\"Employee 5\"]\n"
      ],
      "metadata": {
        "id": "KsNQ15DqDlLk"
      }
    },
    {
      "cell_type": "code",
      "source": [
        "Sales = [4500,6000,3000,8000,5500,4200]\n",
        "High_performers = []\n",
        "\n",
        "for i in range(len(Sales)):\n",
        "  if Sales[i] > 5000:\n",
        "    High_performers.append(f\"Employee {i+1}\")\n",
        "print(High_performers)"
      ],
      "metadata": {
        "id": "vzprScRFVERZ",
        "colab": {
          "base_uri": "https://localhost:8080/"
        },
        "outputId": "3befdb54-50bd-4fde-a2ce-ea9bd66ca575"
      },
      "execution_count": null,
      "outputs": [
        {
          "output_type": "stream",
          "name": "stdout",
          "text": [
            "['Employee 2', 'Employee 4', 'Employee 5']\n"
          ]
        }
      ]
    },
    {
      "cell_type": "markdown",
      "source": [
        "(2).Find the most Expensive Product in a Store\n",
        "Problem Statement:\n",
        "A store sells different products,and their prices are stored in a list.\n",
        "Find the most expensive product.\n",
        "\n",
        "Example Input:\n",
        "product = [\"Laptop\",\"phone\",\"Headphone\",\"monitor\",\"keyboard\"]\n",
        "prices = [800,500,200,300,100]\n",
        "Expected Output:\n",
        "\"Laptop - $800\""
      ],
      "metadata": {
        "id": "J3xPo2BpexMA"
      }
    },
    {
      "cell_type": "code",
      "source": [
        "products = [\"Laptop\",\"Phone\",\"Headphone\",\"Moniter\",\"Keyboard\"]\n",
        "prices = [800,500,200,300,100]\n",
        "Max_price = max(prices)\n",
        "# print(Max_price)\n",
        "index = prices.index(Max_price)\n",
        "# print(index)\n",
        "print(f\"{products[index]}-${Max_price}\")"
      ],
      "metadata": {
        "colab": {
          "base_uri": "https://localhost:8080/"
        },
        "id": "lFGd1HhsFNrL",
        "outputId": "1d06afe2-284f-40b5-c464-33bdf7b5e12b"
      },
      "execution_count": null,
      "outputs": [
        {
          "output_type": "stream",
          "name": "stdout",
          "text": [
            "Laptop-$800\n"
          ]
        }
      ]
    },
    {
      "cell_type": "markdown",
      "source": [
        "(3).Count How many Customers Made Large Purchases\n",
        "\n",
        "Problem Statement:\n",
        "\n",
        "A Company has a list of customers and their total purchase amounts.\n",
        "Find how many customers have spent more than $1000\n",
        "\n",
        "Example Input:\n",
        "Customers =  [\"John\",\"Emma\",\"Liam\",\"Sophia\",\"David\"]\n",
        "Purchases = [1200,800,1500,700,2200]\n"
      ],
      "metadata": {
        "id": "FruGTnQAeqvD"
      }
    },
    {
      "cell_type": "code",
      "source": [
        "customers = [\"John\",\"Emma\",\"Liam\",\"sophia\",\"David\"]\n",
        "purchases = [1200,800,1500,700,2200]\n",
        "\n",
        "customers = 0\n",
        "\n",
        "for i in purchases:\n",
        "  if i >1000:\n",
        "    customers += 1\n",
        "\n",
        "print(f\"Total high value customers:{customers}\")"
      ],
      "metadata": {
        "colab": {
          "base_uri": "https://localhost:8080/"
        },
        "id": "9ZYlFdPzHNqH",
        "outputId": "dcf1d8a9-f88f-42f7-a35f-73995dda766d"
      },
      "execution_count": null,
      "outputs": [
        {
          "output_type": "stream",
          "name": "stdout",
          "text": [
            "Total high value customers:3\n"
          ]
        }
      ]
    },
    {
      "cell_type": "markdown",
      "source": [
        "(4).Identify Low Stock Product in an Inventory\n",
        "\n",
        "Problem Statement:\n",
        "A warehouse stores products,and their stock levels are listed.\n",
        "\n",
        "Identify products with a stock below 5 units.\n",
        "\n",
        "Example Input:\n",
        "\n",
        "products = [\"shirts\",\"Jeans\",\"Jackets\",\"Shoes\",\"Hats\"]\n",
        "stock = [3,10,4,15,2]\n",
        "\n",
        "\n",
        "Expected Output:\n",
        "\n",
        "Low Stock product:['Shirts','Jackets','Hats']\n",
        "\n",
        "\n"
      ],
      "metadata": {
        "id": "3r9ewjVwsgue"
      }
    },
    {
      "cell_type": "code",
      "source": [
        "products = [\"shirts\",\"Jeans\",\"Jackets\",\"Shoes\",\"Hats\"]\n",
        "stock = [3,10,4,15,2]\n",
        "low_stock = []\n",
        "\n",
        "for i in range(len(stock)):\n",
        "  if stock[i] < 5:\n",
        "    low_stock.append(products[i])\n",
        "print(f\"Low Stock Product:{low_stock}\")\n"
      ],
      "metadata": {
        "colab": {
          "base_uri": "https://localhost:8080/"
        },
        "id": "p27FlQl8Iu0h",
        "outputId": "7e1fbc7d-0d59-4bb1-8fa9-df2a60d4b6f5"
      },
      "execution_count": null,
      "outputs": [
        {
          "output_type": "stream",
          "name": "stdout",
          "text": [
            "Low Stock Product:['shirts', 'Jackets', 'Hats']\n"
          ]
        }
      ]
    },
    {
      "cell_type": "markdown",
      "source": [
        "(5).Calculate Employee Bonuses Based on Performance\n",
        "\n",
        "Problem Statement:\n",
        "A Company awards bonuses based on employee performance scores.\n",
        "\n",
        "Employee who scored above 80 receive a $ 500 bonus,\n",
        "\n",
        "while those scroing between  50  and  80  receive  $ 200.others get no bonus.\n",
        "Example Input:\n",
        "employee = [\"Alice\",\"Bob\",\"Charlie\",\"David\",\"Eve\"]\n",
        "Scores = [80,70,90,45,60]\n",
        "\n",
        "Expected Output:\n",
        "\n",
        " ALice gets $500,  Bob gets $200,  Charlie gets $500,  David gets $0,  Eve gets $200"
      ],
      "metadata": {
        "id": "ybvdgncbwKR9"
      }
    },
    {
      "cell_type": "code",
      "source": [
        "employees = [\"ALice\", \"Bob\", \"Charlie\", \"David\", \"Eve\"]\n",
        "scores = [85, 70, 90, 45, 60]\n",
        "bonuses = []\n",
        "\n",
        "for i in range(len(scores)):\n",
        "    if scores[i] > 80:\n",
        "        bonus = 500\n",
        "    elif scores[i] >= 50:\n",
        "        bonus = 200\n",
        "    else:\n",
        "        bonus = 0\n",
        "\n",
        "    bonuses.append(f\"{employees[i]} gets ${bonus}\")\n",
        "\n",
        "print(\",  \".join(bonuses))\n"
      ],
      "metadata": {
        "colab": {
          "base_uri": "https://localhost:8080/"
        },
        "id": "RLJthqOTTTOy",
        "outputId": "f8256c86-378a-4748-c21c-3b2b7a310e3f"
      },
      "execution_count": null,
      "outputs": [
        {
          "output_type": "stream",
          "name": "stdout",
          "text": [
            "ALice gets $500,  Bob gets $200,  Charlie gets $500,  David gets $0,  Eve gets $200\n"
          ]
        }
      ]
    },
    {
      "cell_type": "markdown",
      "source": [
        "**Dictionary in python**\n",
        "\n",
        "(1). Identification = {}\n",
        "\n",
        "(2). Key:value pair and element separate by comma\n",
        "\n",
        "(3). Indexing start from 0 and length start from 1.\n"
      ],
      "metadata": {
        "id": "eY2iIQ6pQ8XT"
      }
    },
    {
      "cell_type": "code",
      "source": [
        "a = {'Brand':'kia', 'Model':'Seltos','Year':2024}\n",
        "print(a)"
      ],
      "metadata": {
        "colab": {
          "base_uri": "https://localhost:8080/"
        },
        "id": "QM6rs1QZR2_V",
        "outputId": "691541f7-c1e3-45cb-df15-e0d59835ec07"
      },
      "execution_count": null,
      "outputs": [
        {
          "output_type": "stream",
          "name": "stdout",
          "text": [
            "{'Brand': 'kia', 'Model': 'Seltos', 'Year': 2024}\n"
          ]
        }
      ]
    },
    {
      "cell_type": "code",
      "source": [
        "type(a)"
      ],
      "metadata": {
        "colab": {
          "base_uri": "https://localhost:8080/"
        },
        "id": "9MukSyxQShYe",
        "outputId": "5e8edab4-09b4-450d-9c53-ae42fad62069"
      },
      "execution_count": null,
      "outputs": [
        {
          "output_type": "execute_result",
          "data": {
            "text/plain": [
              "dict"
            ]
          },
          "metadata": {},
          "execution_count": 2
        }
      ]
    },
    {
      "cell_type": "code",
      "source": [
        "# Access the elements\n",
        "print(a['Brand'])\n",
        "print(a['Model'])\n",
        "print(a['Year'])"
      ],
      "metadata": {
        "colab": {
          "base_uri": "https://localhost:8080/"
        },
        "id": "5kK8PKqeSnlq",
        "outputId": "393d71a1-51a9-48f0-8e70-2b56fcbbf9c9"
      },
      "execution_count": null,
      "outputs": [
        {
          "output_type": "stream",
          "name": "stdout",
          "text": [
            "kia\n",
            "Seltos\n",
            "2024\n"
          ]
        }
      ]
    },
    {
      "cell_type": "code",
      "source": [
        "a = {'Brand':'kia', 'Model':'Seltos','Year':2024}\n",
        "print(a)"
      ],
      "metadata": {
        "colab": {
          "base_uri": "https://localhost:8080/"
        },
        "id": "G_upr-8xTCv7",
        "outputId": "f62725b9-cfad-4956-a4f4-d15c1221c66c"
      },
      "execution_count": null,
      "outputs": [
        {
          "output_type": "stream",
          "name": "stdout",
          "text": [
            "{'Brand': 'kia', 'Model': 'Seltos', 'Year': 2024}\n"
          ]
        }
      ]
    },
    {
      "cell_type": "code",
      "source": [
        "a['Year'] = 2025"
      ],
      "metadata": {
        "id": "nY0Uj08YS5Nr"
      },
      "execution_count": null,
      "outputs": []
    },
    {
      "cell_type": "code",
      "source": [
        "a"
      ],
      "metadata": {
        "colab": {
          "base_uri": "https://localhost:8080/"
        },
        "id": "CyPq4kJrTXFl",
        "outputId": "3a0a0243-053f-4706-8f65-69d24f7d8768"
      },
      "execution_count": null,
      "outputs": [
        {
          "output_type": "execute_result",
          "data": {
            "text/plain": [
              "{'Brand': 'kia', 'Model': 'Seltos', 'Year': 2025}"
            ]
          },
          "metadata": {},
          "execution_count": 6
        }
      ]
    },
    {
      "cell_type": "code",
      "source": [
        "# Loop in dictionary\n",
        "\n",
        "for i in a:    # Extract all key\n",
        "   print(i)"
      ],
      "metadata": {
        "colab": {
          "base_uri": "https://localhost:8080/"
        },
        "id": "HDuq97jUTbyM",
        "outputId": "1a3a1832-6601-4f23-e524-825f778f0717"
      },
      "execution_count": null,
      "outputs": [
        {
          "output_type": "stream",
          "name": "stdout",
          "text": [
            "Brand\n",
            "Model\n",
            "Year\n"
          ]
        }
      ]
    },
    {
      "cell_type": "code",
      "source": [
        "for i in a.keys():\n",
        "  print(i)"
      ],
      "metadata": {
        "colab": {
          "base_uri": "https://localhost:8080/"
        },
        "id": "dpDPJi00T1va",
        "outputId": "e055c868-9bdf-47d7-d4aa-4e3a0b22f103"
      },
      "execution_count": null,
      "outputs": [
        {
          "output_type": "stream",
          "name": "stdout",
          "text": [
            "Brand\n",
            "Model\n",
            "Year\n"
          ]
        }
      ]
    },
    {
      "cell_type": "code",
      "source": [
        "for i in a :      # Extract all values\n",
        "  print(a[i])"
      ],
      "metadata": {
        "colab": {
          "base_uri": "https://localhost:8080/"
        },
        "id": "KWhdjji-UDFp",
        "outputId": "58cb6d17-3d5e-4667-bab2-5a2e6a3ae064"
      },
      "execution_count": null,
      "outputs": [
        {
          "output_type": "stream",
          "name": "stdout",
          "text": [
            "kia\n",
            "Seltos\n",
            "2025\n"
          ]
        }
      ]
    },
    {
      "cell_type": "code",
      "source": [
        "for x,y in a.items():\n",
        "  print(x,y)"
      ],
      "metadata": {
        "colab": {
          "base_uri": "https://localhost:8080/"
        },
        "id": "YcdaMdp16Pp8",
        "outputId": "4e5e7f6a-5c23-4979-9d00-be37556e33e6"
      },
      "execution_count": null,
      "outputs": [
        {
          "output_type": "stream",
          "name": "stdout",
          "text": [
            "Brand kia\n",
            "Model Seltos\n",
            "Year 2024\n",
            "color white\n"
          ]
        }
      ]
    },
    {
      "cell_type": "code",
      "source": [
        "# Add key-value pair\n",
        "a = {'Brand':'kia', 'Model':'Seltos','Year':2024}\n",
        "print(a)\n",
        "a['color'] = 'white'\n",
        "a\n"
      ],
      "metadata": {
        "colab": {
          "base_uri": "https://localhost:8080/"
        },
        "id": "f2OiGV-_6Ziy",
        "outputId": "3cf0e654-dd39-46e9-8ca5-331f4cb98f77"
      },
      "execution_count": null,
      "outputs": [
        {
          "output_type": "stream",
          "name": "stdout",
          "text": [
            "{'Brand': 'kia', 'Model': 'Seltos', 'Year': 2024}\n"
          ]
        },
        {
          "output_type": "execute_result",
          "data": {
            "text/plain": [
              "{'Brand': 'kia', 'Model': 'Seltos', 'Year': 2024, 'color': 'white'}"
            ]
          },
          "metadata": {},
          "execution_count": 7
        }
      ]
    },
    {
      "cell_type": "code",
      "source": [
        "a['Year']= 2025"
      ],
      "metadata": {
        "id": "ljt1BcQh7YHR"
      },
      "execution_count": null,
      "outputs": []
    },
    {
      "cell_type": "code",
      "source": [
        "a"
      ],
      "metadata": {
        "colab": {
          "base_uri": "https://localhost:8080/"
        },
        "id": "5ii_QBsG7lDL",
        "outputId": "a0abdeab-6eff-43e8-b120-a98df0e3f000"
      },
      "execution_count": null,
      "outputs": [
        {
          "output_type": "execute_result",
          "data": {
            "text/plain": [
              "{'Brand': 'kia', 'Model': 'Seltos', 'Year': 2025, 'color': 'white'}"
            ]
          },
          "metadata": {},
          "execution_count": 10
        }
      ]
    },
    {
      "cell_type": "markdown",
      "source": [
        " Function in dictionary"
      ],
      "metadata": {
        "id": "9G1ZnIeS7p-y"
      }
    },
    {
      "cell_type": "code",
      "source": [
        "a = {'Brand':'kia', 'Model':'Seltos','Year':2024}\n",
        "print(a)"
      ],
      "metadata": {
        "colab": {
          "base_uri": "https://localhost:8080/"
        },
        "id": "vOk3pk3173Iz",
        "outputId": "4458716d-3911-4873-93d4-99b755f253a6"
      },
      "execution_count": null,
      "outputs": [
        {
          "output_type": "stream",
          "name": "stdout",
          "text": [
            "{'Brand': 'kia', 'Model': 'Seltos', 'Year': 2024}\n"
          ]
        }
      ]
    },
    {
      "cell_type": "code",
      "source": [
        "# (1). len()\n",
        "len(a)"
      ],
      "metadata": {
        "colab": {
          "base_uri": "https://localhost:8080/"
        },
        "id": "snoBhXoQ8Ejw",
        "outputId": "0a9de8f2-83fe-4ea3-b5a2-109d4fb7639b"
      },
      "execution_count": null,
      "outputs": [
        {
          "output_type": "execute_result",
          "data": {
            "text/plain": [
              "3"
            ]
          },
          "metadata": {},
          "execution_count": 12
        }
      ]
    },
    {
      "cell_type": "code",
      "source": [
        "# (2). pop()\n",
        "a = {'Brand':'kia', 'Model':'Seltos','Year':2024}\n",
        "print(a)\n",
        "a.pop('Model')\n",
        "print(a)"
      ],
      "metadata": {
        "colab": {
          "base_uri": "https://localhost:8080/"
        },
        "id": "63oDLhe38L8R",
        "outputId": "e3484cb2-7c9e-4af5-8e3c-543a6c8f3502"
      },
      "execution_count": null,
      "outputs": [
        {
          "output_type": "stream",
          "name": "stdout",
          "text": [
            "{'Brand': 'kia', 'Model': 'Seltos', 'Year': 2024}\n",
            "{'Brand': 'kia', 'Year': 2024}\n"
          ]
        }
      ]
    },
    {
      "cell_type": "code",
      "source": [
        "# (3). popitem()\n",
        "a = {'Brand':'kia', 'Model':'Seltos','Year':2024}\n",
        "print(a)\n",
        "a.popitem()\n",
        "print(a)"
      ],
      "metadata": {
        "colab": {
          "base_uri": "https://localhost:8080/"
        },
        "id": "C7MpWwQc8baQ",
        "outputId": "cd589dd9-dd26-4df1-ced8-10dc2af30c26"
      },
      "execution_count": null,
      "outputs": [
        {
          "output_type": "stream",
          "name": "stdout",
          "text": [
            "{'Brand': 'kia', 'Model': 'Seltos', 'Year': 2024}\n",
            "{'Brand': 'kia', 'Model': 'Seltos'}\n"
          ]
        }
      ]
    },
    {
      "cell_type": "code",
      "source": [
        "# (3). clear()\n",
        "a = {'Brand':'kia', 'Model':'Seltos','Year':2024}\n",
        "print(a)\n",
        "a.clear()\n",
        "print(a)"
      ],
      "metadata": {
        "colab": {
          "base_uri": "https://localhost:8080/"
        },
        "id": "nO9b3jZs8z7F",
        "outputId": "2cafed43-37dd-40ad-f0cd-2b715ba31c59"
      },
      "execution_count": null,
      "outputs": [
        {
          "output_type": "stream",
          "name": "stdout",
          "text": [
            "{'Brand': 'kia', 'Model': 'Seltos', 'Year': 2024}\n",
            "{}\n"
          ]
        }
      ]
    },
    {
      "cell_type": "code",
      "source": [
        "Raj = {'jackets':500, 'Jeans':1500,'shoes':8000}\n",
        "print(Raj)\n",
        "a = []\n",
        "for i in Raj.values():\n",
        "  a.append(i)\n",
        "#print(a)\n",
        "sum = 0\n",
        "for i in range(len(a)):\n",
        "  sum += a[i]\n",
        "print(\"Your total bill is :\", sum)\n",
        "\n",
        "b = []\n",
        "total = 0\n",
        "for i in Raj.keys():\n",
        "  b.append(i)\n",
        "print(\"your iteam list is :\",b)"
      ],
      "metadata": {
        "colab": {
          "base_uri": "https://localhost:8080/"
        },
        "id": "03huqOvU89zY",
        "outputId": "72b156cf-cfb2-4e0b-af4f-3adae350c3bd"
      },
      "execution_count": null,
      "outputs": [
        {
          "output_type": "stream",
          "name": "stdout",
          "text": [
            "{'jackets': 500, 'Jeans': 1500, 'shoes': 8000}\n",
            "Your total bill is : 10000\n",
            "your iteam list is : ['jackets', 'Jeans', 'shoes']\n"
          ]
        }
      ]
    },
    {
      "cell_type": "code",
      "source": [
        "a = {'shirt':500,'jeans':1000,'shirt':1000,'shirt':2000,'shoes':5000}\n",
        "# tell me how many time shirt repeat?\n",
        "# only shirt total bill?\n",
        "iteam = ['shirt','jeans','shirt','shirt','shoes']\n",
        "price = [500,1000,1000,2000,5000]\n",
        "total = 0\n",
        "count = 0\n",
        "for i in range(len(iteam)):\n",
        "  if iteam[i] == 'shirt':\n",
        "    total += price[i]\n",
        "    count += 1\n",
        "print(f\"shirt appears {count} times \")\n",
        "print(f\"Total bill for shirt: {total}\")"
      ],
      "metadata": {
        "id": "8n-AFYZZURpD",
        "colab": {
          "base_uri": "https://localhost:8080/"
        },
        "outputId": "737edbca-c08e-4641-be55-667705af457e"
      },
      "execution_count": null,
      "outputs": [
        {
          "output_type": "stream",
          "name": "stdout",
          "text": [
            "shirt appears 3 times \n",
            "Total bill for shirt: 3500\n"
          ]
        }
      ]
    },
    {
      "cell_type": "markdown",
      "source": [
        "Q 1. From \"apple\" create a dictionary where keys are character and value are how many time they occur."
      ],
      "metadata": {
        "id": "NA66vgMuCRwd"
      }
    },
    {
      "cell_type": "code",
      "source": [
        "s = \"apple\"\n",
        "d = {}\n",
        "for i in s:\n",
        "  if i in d:\n",
        "    d[i] += 1\n",
        "  else:\n",
        "    d[i] = 1\n",
        "print(d)\n"
      ],
      "metadata": {
        "colab": {
          "base_uri": "https://localhost:8080/"
        },
        "id": "UGRprit54-DB",
        "outputId": "64d14b82-7261-40ae-f50f-f65e2c542a51"
      },
      "execution_count": null,
      "outputs": [
        {
          "output_type": "stream",
          "name": "stdout",
          "text": [
            "{'a': 1, 'p': 2, 'l': 1, 'e': 1}\n"
          ]
        }
      ]
    },
    {
      "cell_type": "markdown",
      "source": [
        "Q2. Merge {'a':1,'b':2} and {'b':3,'c':4}.if key is common, add value."
      ],
      "metadata": {
        "id": "Cu3MbmzrEZre"
      }
    },
    {
      "cell_type": "code",
      "source": [
        "d1 = {'a':1, 'b':2}\n",
        "d2 = {'b':3, 'c':4}\n",
        "result = {}\n",
        "for k in d1:\n",
        "  result[k] = d1[k]\n",
        "for k in d2:\n",
        "  if k in result:\n",
        "    result[k] = result[k] + d2[k]\n",
        "  else:\n",
        "    result[k] = d2[k]\n",
        "print(result)"
      ],
      "metadata": {
        "colab": {
          "base_uri": "https://localhost:8080/"
        },
        "id": "SVZac4lgC3X7",
        "outputId": "4ad21b09-9beb-46a1-b42f-0f22b0626e21"
      },
      "execution_count": null,
      "outputs": [
        {
          "output_type": "stream",
          "name": "stdout",
          "text": [
            "{'a': 1, 'b': 5, 'c': 4}\n"
          ]
        }
      ]
    },
    {
      "cell_type": "markdown",
      "source": [
        "Q3. From {'a':1,'b':2,'c':1},make {1:['a','c'],2:['b']}"
      ],
      "metadata": {
        "id": "e0lbfXYqJTip"
      }
    },
    {
      "cell_type": "code",
      "source": [
        "d = {'a':1,'b':2,'c':1}\n",
        "result = {}\n",
        "for k in d:\n",
        "  val = d[k]\n",
        "  if val in result:\n",
        "    result[val].append(k)\n",
        "  else:\n",
        "    result[val] = [k]\n",
        "print(result)\n",
        "\n"
      ],
      "metadata": {
        "colab": {
          "base_uri": "https://localhost:8080/"
        },
        "id": "6NOQRJCbEWhz",
        "outputId": "72bf67a8-08ea-4347-b960-4030fa5abeca"
      },
      "execution_count": null,
      "outputs": [
        {
          "output_type": "stream",
          "name": "stdout",
          "text": [
            "{1: ['a', 'c'], 2: ['b']}\n"
          ]
        }
      ]
    },
    {
      "cell_type": "code",
      "source": [],
      "metadata": {
        "id": "oBQo0c2YT8oY"
      },
      "execution_count": null,
      "outputs": []
    }
  ],
  "metadata": {
    "colab": {
      "provenance": [],
      "authorship_tag": "ABX9TyMp93RTJ7cTHkvaB8uweTW3",
      "include_colab_link": true
    },
    "kernelspec": {
      "display_name": "Python 3",
      "name": "python3"
    },
    "language_info": {
      "name": "python"
    }
  },
  "nbformat": 4,
  "nbformat_minor": 0
}