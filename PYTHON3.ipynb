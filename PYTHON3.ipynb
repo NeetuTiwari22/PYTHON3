{
  "cells": [
    {
      "cell_type": "markdown",
      "metadata": {
        "id": "view-in-github",
        "colab_type": "text"
      },
      "source": [
        "<a href=\"https://colab.research.google.com/github/NeetuTiwari22/PYTHON3/blob/main/PYTHON3.ipynb\" target=\"_parent\"><img src=\"https://colab.research.google.com/assets/colab-badge.svg\" alt=\"Open In Colab\"/></a>"
      ]
    },
    {
      "cell_type": "code",
      "execution_count": null,
      "metadata": {
        "colab": {
          "base_uri": "https://localhost:8080/"
        },
        "id": "5o5XtuS51GYM",
        "outputId": "75dfefe2-4d54-4959-f7c8-f194f0b1223b"
      },
      "outputs": [
        {
          "name": "stdout",
          "output_type": "stream",
          "text": [
            "Enter a number: 4\n",
            "The number is positive\n"
          ]
        }
      ],
      "source": [
        "# 1. Check if a number is positive, negative, or zero\n",
        "# Write a Python program that takes a number as input and checks whether it is positive, negative, or zero.\n",
        "\n",
        "n = int(input(\"enter a number: \"))\n",
        "if n > 0:\n",
        "    print(\"The number is positive\")\n",
        "elif n < 0:\n",
        "    print(\"The number is negative\")\n",
        "else:\n",
        "    print(\"The number is zero\")\n"
      ]
    },
    {
      "cell_type": "code",
      "execution_count": null,
      "metadata": {
        "colab": {
          "base_uri": "https://localhost:8080/"
        },
        "id": "g2M8eVMZ2_2I",
        "outputId": "582de6a5-cd47-4463-8bbe-ca399f79a86a"
      },
      "outputs": [
        {
          "name": "stdout",
          "output_type": "stream",
          "text": [
            "enter a number12\n",
            "even number\n"
          ]
        }
      ],
      "source": [
        "#2. Check if a number is even or odd\n",
        "# Write a Python program that asks the user to enter a number and determines if it is even or odd.\n",
        "n=int(input(\"enter a number\"))\n",
        "if n % 2 == 0:\n",
        "  print(\"even number\")\n",
        "else :\n",
        "  print(\"odd number\")\n"
      ]
    },
    {
      "cell_type": "code",
      "execution_count": null,
      "metadata": {
        "colab": {
          "base_uri": "https://localhost:8080/"
        },
        "id": "R4ZdqISS4iUg",
        "outputId": "b2c3ebb5-bab0-4a47-e326-665a7eb212da"
      },
      "outputs": [
        {
          "output_type": "stream",
          "name": "stdout",
          "text": [
            "enter a number22\n",
            "enter b number1\n",
            " a largest number\n"
          ]
        }
      ],
      "source": [
        "# 3. Find the largest of two numbers\n",
        "# Write a Python program that takes two numbers as input and prints the largest one.\n",
        "a=int(input(\"enter a number\"))\n",
        "b=int(input(\"enter b number\"))\n",
        "if a>b:\n",
        "  print(\" a largest number\")\n",
        "elif b>a:\n",
        "  print(\" b largest number\")\n",
        "\n"
      ]
    },
    {
      "cell_type": "code",
      "execution_count": null,
      "metadata": {
        "colab": {
          "base_uri": "https://localhost:8080/"
        },
        "id": "ddDzt3_K6igN",
        "outputId": "3d89f367-34ae-4545-95a8-7bcec98482d1"
      },
      "outputs": [
        {
          "name": "stdout",
          "output_type": "stream",
          "text": [
            "a enter a number22\n",
            "b enter a number12\n",
            "c enter a number33\n",
            "c is large number\n"
          ]
        }
      ],
      "source": [
        "# 4. Find the largest of three numbers\n",
        "# Write a Python program that takes three numbers as input and determines the largest of the three.\n",
        "a=int(input(\"a enter a number\"))\n",
        "b=int(input(\"b enter a number\"))\n",
        "c=int(input(\"c enter a number\"))\n",
        "if a>b>c:\n",
        "  print(\"a is large number\")\n",
        "elif b>a>c:\n",
        "  print(\"b is large number\")\n",
        "elif c>a>b:\n",
        "  print(\"c is large number\")"
      ]
    },
    {
      "cell_type": "code",
      "execution_count": null,
      "metadata": {
        "colab": {
          "base_uri": "https://localhost:8080/"
        },
        "id": "MxEh_dQA932n",
        "outputId": "c036dca9-7e6b-4896-9a34-0d5bdf6280d2"
      },
      "outputs": [
        {
          "name": "stdout",
          "output_type": "stream",
          "text": [
            "Enter a year: 1997\n",
            "is not a leap year.\n"
          ]
        }
      ],
      "source": [
        "# 5. Check if a year is a leap year\n",
        "# Write a Python program that takes a year as input and checks whether it is a leap year or not.\n",
        "year = int(input(\"Enter a year: \"))\n",
        "      #   if year % 4 == 0:\n",
        "      #    print(\"leap  year\")\n",
        "      #  else :\n",
        "      #    print(\"not leap year\")\n",
        "\n",
        "if (year % 4 == 0) and (year % 100 != 0) or (year % 400 == 0):\n",
        "    print(\" is a leap year.\")\n",
        "else:\n",
        "    print(\"is not a leap year.\")\n"
      ]
    },
    {
      "cell_type": "code",
      "execution_count": null,
      "metadata": {
        "colab": {
          "base_uri": "https://localhost:8080/"
        },
        "id": "gQvkpO8S-t2j",
        "outputId": "9021c654-a338-4cff-f3e6-36f357bdf72f"
      },
      "outputs": [
        {
          "name": "stdout",
          "output_type": "stream",
          "text": [
            "Enter your marks: 88\n",
            "Grade: B\n"
          ]
        }
      ],
      "source": [
        "# 6. Grade a student based on marks\n",
        "# Write a Python program that asks the user to enter their marks and assigns a grade based on the following:\n",
        "\n",
        "marks = int(input(\"Enter your marks: \"))\n",
        "\n",
        "if marks >= 90:\n",
        "    print(\"Grade: A\")\n",
        "elif marks >= 80:\n",
        "    print(\"Grade: B\")\n",
        "elif marks >= 70:\n",
        "    print(\"Grade: C\")\n",
        "elif marks >= 60:\n",
        "    print(\"Grade: D\")\n",
        "else:\n",
        "    print(\"Grade: F\")\n"
      ]
    },
    {
      "cell_type": "code",
      "execution_count": null,
      "metadata": {
        "colab": {
          "base_uri": "https://localhost:8080/"
        },
        "id": "MmkL-_p4_end",
        "outputId": "3952ac31-cbfd-4cd3-8010-7730689e42f1"
      },
      "outputs": [
        {
          "name": "stdout",
          "output_type": "stream",
          "text": [
            "Enter a number: 55\n",
            "is divisible by both 5 and 11.\n"
          ]
        }
      ],
      "source": [
        "# 7. Check if a number is divisible by both 5 and 11\n",
        "# Write a Python program that takes a number as input and checks if it is divisible by both 5 and 11.\n",
        "\n",
        "number = int(input(\"Enter a number: \"))\n",
        "\n",
        "if (number % 5 == 0) & (number % 11 == 0):\n",
        "    print(\"is divisible by both 5 and 11.\")\n",
        "else:\n",
        "    print(\" is NOT divisible by both 5 and 11.\")\n",
        "\n",
        "\n"
      ]
    },
    {
      "cell_type": "code",
      "execution_count": null,
      "metadata": {
        "colab": {
          "base_uri": "https://localhost:8080/"
        },
        "id": "hn9MgyDGAlgA",
        "outputId": "8daf11f1-b598-404f-e242-ada17d617729"
      },
      "outputs": [
        {
          "name": "stdout",
          "output_type": "stream",
          "text": [
            "Enter your character: b\n",
            "consonent\n"
          ]
        }
      ],
      "source": [
        "# 8. Check if a character is a vowel or consonant\n",
        "# Write a Python program that takes a single character as input and checks whether it is a vowel (a, e, i, o, u) or a consonant.\n",
        "char = input(\"Enter your character: \")\n",
        "if char == 'a' or char == 'e' or char == 'i' or char == 'o' or char == 'u':\n",
        " print(\"vowel\")\n",
        "else:\n",
        "  print(\"consonent\")\n",
        "\n"
      ]
    },
    {
      "cell_type": "code",
      "execution_count": null,
      "metadata": {
        "colab": {
          "base_uri": "https://localhost:8080/"
        },
        "id": "V6ns0jSAGdrd",
        "outputId": "408831de-df21-4fd4-efb5-b159526031fc"
      },
      "outputs": [
        {
          "name": "stdout",
          "output_type": "stream",
          "text": [
            "Enter a number: 22\n",
            " is within the range of 10 to 50.\n"
          ]
        }
      ],
      "source": [
        "# 9. Check if a number is within a specific range\n",
        "# Write a Python program that checks whether a given number lies between 10 and 50 (inclusive).\n",
        "\n",
        "num = int(input(\"Enter a number: \"))\n",
        "if 10 <= num <= 50:\n",
        "    print(\" is within the range of 10 to 50.\")\n",
        "else:\n",
        "    print(\"is outside the range of 10 to 50.\")\n"
      ]
    },
    {
      "cell_type": "code",
      "execution_count": null,
      "metadata": {
        "colab": {
          "base_uri": "https://localhost:8080/"
        },
        "id": "U0f6o5p0HX_T",
        "outputId": "d6fe2d90-f64d-45c4-bad9-8c89218c75ce"
      },
      "outputs": [
        {
          "name": "stdout",
          "output_type": "stream",
          "text": [
            "Enter your age: 44\n",
            "You are eligible to vote.\n"
          ]
        }
      ],
      "source": [
        "# 10. Check if a person is eligible to vote\n",
        "# Write a Python program that asks for a person's age and checks if they are eligible to vote (age ≥ 18).\n",
        "age = int(input(\"Enter your age: \"))\n",
        "\n",
        "if age >= 18:\n",
        "    print(\"You are eligible to vote.\")\n",
        "else:\n",
        "    print(\"You are not eligible to vote.\")\n"
      ]
    },
    {
      "cell_type": "code",
      "execution_count": null,
      "metadata": {
        "colab": {
          "base_uri": "https://localhost:8080/"
        },
        "id": "uXK6Nla755ZF",
        "outputId": "1177c7c4-7cbc-4590-c07d-86d7684f7f9b"
      },
      "outputs": [
        {
          "name": "stdout",
          "output_type": "stream",
          "text": [
            "How many seats would you like to book? 5\n",
            "Total fare for 5 seats is: 500 units\n",
            "Available seats after booking: 95\n"
          ]
        }
      ],
      "source": [
        "# Initial values\n",
        "total_seats = 100\n",
        "seat_price = 100\n",
        "\n",
        "# Get user input\n",
        "seats_requested = int(input(\"How many seats would you like to book? \"))\n",
        "\n",
        "# Check if enough seats are available\n",
        "if seats_requested <= total_seats and seats_requested > 0:\n",
        "    total_fare = seats_requested * seat_price\n",
        "    total_seats -= seats_requested\n",
        "    print(f\"Total fare for {seats_requested} seats is: {total_fare} units\")\n",
        "    print(f\"Available seats after booking: {total_seats}\")\n",
        "else:\n",
        "    print(\"Sorry, not enough seats available or invalid number of seats!\")\n"
      ]
    },
    {
      "cell_type": "code",
      "execution_count": null,
      "metadata": {
        "id": "HqBQRJEi5if_"
      },
      "outputs": [],
      "source": [
        "# 21-3-2025\n",
        "# String is immutable datatype . Immutable means we cannot change or update values at a runtime.\n",
        "# Indexing start from 0 and  length start from 1 .\n",
        "# forward Indexing start from 0 and reverse/backward indexing start from -1."
      ]
    },
    {
      "cell_type": "code",
      "execution_count": null,
      "metadata": {
        "colab": {
          "base_uri": "https://localhost:8080/"
        },
        "id": "tOkZVhel593W",
        "outputId": "17e3d903-246c-401a-dd51-8176d8e7d027"
      },
      "outputs": [
        {
          "name": "stdout",
          "output_type": "stream",
          "text": [
            "sam\n"
          ]
        },
        {
          "data": {
            "text/plain": [
              "str"
            ]
          },
          "execution_count": 2,
          "metadata": {},
          "output_type": "execute_result"
        }
      ],
      "source": [
        "a = 'sam'\n",
        "print(a)\n",
        "type(a)"
      ]
    },
    {
      "cell_type": "code",
      "execution_count": null,
      "metadata": {
        "colab": {
          "base_uri": "https://localhost:8080/"
        },
        "id": "CQrrqxfA6Kbd",
        "outputId": "8ef2116c-427c-456d-fd18-0e9a4bcd4f59"
      },
      "outputs": [
        {
          "name": "stdout",
          "output_type": "stream",
          "text": [
            "I\n",
            " \n",
            "l\n",
            "o\n",
            "v\n",
            "e\n"
          ]
        }
      ],
      "source": [
        "# Indexing\n",
        "a = 'I love Maths'\n",
        "print(a[0])      ####forward Indexing start from 0\n",
        "print(a[1])\n",
        "print(a[2])\n",
        "print(a[3])\n",
        "print(a[4])\n",
        "print(a[5])"
      ]
    },
    {
      "cell_type": "code",
      "execution_count": null,
      "metadata": {
        "colab": {
          "base_uri": "https://localhost:8080/"
        },
        "id": "BJfRLZQg6SyM",
        "outputId": "262f199f-1a31-4f29-a37a-9dc68cd8c6ed"
      },
      "outputs": [
        {
          "name": "stdout",
          "output_type": "stream",
          "text": [
            "s\n",
            "h\n",
            "t\n",
            "a\n",
            "M\n"
          ]
        }
      ],
      "source": [
        "print(a[-1])   ###Reverse Indexing\n",
        "print(a[-2])\n",
        "print(a[-3])\n",
        "print(a[-4])\n",
        "print(a[-5])"
      ]
    },
    {
      "cell_type": "markdown",
      "metadata": {
        "id": "PTd9BZ-L6jPX"
      },
      "source": [
        "Slicing in String\n",
        " `\n",
        "str[start_index_value:last_index_value:step_value]\n",
        "start_index_value will include and last_index_value will exclude ."
      ]
    },
    {
      "cell_type": "code",
      "execution_count": null,
      "metadata": {
        "colab": {
          "base_uri": "https://localhost:8080/"
        },
        "id": "1lPF8yvr60RJ",
        "outputId": "a0bb8749-8c19-4021-f6c2-2bb37aba708d"
      },
      "outputs": [
        {
          "name": "stdout",
          "output_type": "stream",
          "text": [
            "love\n",
            "Maths\n",
            "Maths\n",
            "I love \n",
            "I love Maths\n",
            "Ilv ah\n",
            "I love Math\n"
          ]
        }
      ],
      "source": [
        "a = 'I love Maths'\n",
        "print(a[2:6])\n",
        "print(a[7:12])\n",
        "print(a[7:])\n",
        "print(a[:7])\n",
        "print(a[:])\n",
        "print(a[0:11:2]) ###[start:last:step]\n",
        "print(a[0:11])"
      ]
    },
    {
      "cell_type": "code",
      "execution_count": null,
      "metadata": {
        "colab": {
          "base_uri": "https://localhost:8080/"
        },
        "id": "GI9ftj4y7G5M",
        "outputId": "5bdc21ee-45b2-4a86-d7bb-1049caeb2b2d"
      },
      "outputs": [
        {
          "name": "stdout",
          "output_type": "stream",
          "text": [
            "olleh\n"
          ]
        }
      ],
      "source": [
        "s = \"hello\"\n",
        "reversed_s = s[::-1]\n",
        "print(reversed_s)\n"
      ]
    },
    {
      "cell_type": "code",
      "execution_count": null,
      "metadata": {
        "colab": {
          "base_uri": "https://localhost:8080/"
        },
        "id": "hECFjepTeVOe",
        "outputId": "a69b7b12-f553-4ccb-a62c-e210a4fe7936"
      },
      "outputs": [
        {
          "name": "stdout",
          "output_type": "stream",
          "text": [
            "gram\n"
          ]
        }
      ],
      "source": [
        "s = \"programming\"\n",
        "print(s[3:7])\n"
      ]
    },
    {
      "cell_type": "code",
      "execution_count": null,
      "metadata": {
        "colab": {
          "base_uri": "https://localhost:8080/"
        },
        "id": "TtgOxRQxgT0f",
        "outputId": "05381ea4-7963-4c6a-a0d4-9b9455b04a92"
      },
      "outputs": [
        {
          "name": "stdout",
          "output_type": "stream",
          "text": [
            "3\n"
          ]
        }
      ],
      "source": [
        "s = \"banana\"\n",
        "print(s.count('a'))\n"
      ]
    },
    {
      "cell_type": "code",
      "execution_count": null,
      "metadata": {
        "colab": {
          "base_uri": "https://localhost:8080/"
        },
        "id": "NaqeT7ENgiTw",
        "outputId": "a48b487a-198e-4406-e3ac-ea628d3c2270"
      },
      "outputs": [
        {
          "name": "stdout",
          "output_type": "stream",
          "text": [
            "HELLO WORLD\n"
          ]
        }
      ],
      "source": [
        "s = \"hello world\"\n",
        "print(s.upper())\n"
      ]
    },
    {
      "cell_type": "code",
      "execution_count": null,
      "metadata": {
        "colab": {
          "base_uri": "https://localhost:8080/"
        },
        "id": "0kuMRpGng4Ko",
        "outputId": "6e3d94f7-b2a2-4eee-ea55-093addeae25b"
      },
      "outputs": [
        {
          "output_type": "stream",
          "name": "stdout",
          "text": [
            "Enter 1 num1\n",
            "enter last num10\n",
            "enter step value2\n",
            "1\n",
            "3\n",
            "5\n",
            "7\n",
            "9\n"
          ]
        }
      ],
      "source": [
        "i=int(input(\"Enter 1 num\"))\n",
        "n=int(input(\"enter last num\"))\n",
        "p=int(input(\"enter step value\"))\n",
        "\n",
        "while(i<=n):\n",
        " print(i)\n",
        " i=i+p"
      ]
    },
    {
      "cell_type": "code",
      "source": [
        " # sum of first 10 natural number\n",
        " total=0\n",
        " for i in range (1,11):\n",
        "  total +=1\n",
        " print(\"sum:\",total)\n"
      ],
      "metadata": {
        "colab": {
          "base_uri": "https://localhost:8080/"
        },
        "id": "-gFePuvP3x7M",
        "outputId": "094d8042-9127-4fcf-c0b7-8cbe4e65e46a"
      },
      "execution_count": null,
      "outputs": [
        {
          "output_type": "stream",
          "name": "stdout",
          "text": [
            "sum: 10\n"
          ]
        }
      ]
    },
    {
      "cell_type": "code",
      "source": [
        "# factorial number\n",
        "num=int(input(\"Enter a number\"))\n",
        "factorial = 1\n",
        "for i in range (1,num+1):\n",
        "  factorial *= i\n",
        "print(f\"factorial of {num} is {factorial}\")"
      ],
      "metadata": {
        "colab": {
          "base_uri": "https://localhost:8080/"
        },
        "id": "oaXbI4-l7Nnq",
        "outputId": "fdb9a240-2210-40ef-efeb-f64106df082e"
      },
      "execution_count": null,
      "outputs": [
        {
          "output_type": "stream",
          "name": "stdout",
          "text": [
            "Enter a number5\n",
            "factorial of 5 is 120\n"
          ]
        }
      ]
    },
    {
      "cell_type": "code",
      "source": [
        "# count vowels and consonant\n",
        "text =input(\"Enter a string: \")\n",
        "vowels = \"aeiouAEIOU\"\n",
        "count = 0\n",
        "cons = 0\n",
        "for char in text:\n",
        "  if char in vowels:\n",
        "     count += 1\n",
        "  else:\n",
        "    cons = cons + 1\n",
        "print(\"Enter the vowels:\",count)\n",
        "print(\"Enter of cons:\",cons)"
      ],
      "metadata": {
        "colab": {
          "base_uri": "https://localhost:8080/"
        },
        "id": "VayONbIg8JHV",
        "outputId": "239738a8-1b9a-4963-b5e2-7f8aa11416a3"
      },
      "execution_count": null,
      "outputs": [
        {
          "output_type": "stream",
          "name": "stdout",
          "text": [
            "Enter a string: hello world\n",
            "Enter the vowels: 3\n",
            "Enter of cons: 8\n"
          ]
        }
      ]
    },
    {
      "cell_type": "code",
      "source": [
        "a=input(\"enter a name:\")\n",
        "len(a)\n",
        "for i in range (len(a)):\n",
        "  print(i)\n",
        "  print(a[i])"
      ],
      "metadata": {
        "colab": {
          "base_uri": "https://localhost:8080/"
        },
        "id": "j3eGdTvJAzrn",
        "outputId": "a6066690-bf43-4fd1-e236-4369767275a7"
      },
      "execution_count": null,
      "outputs": [
        {
          "output_type": "stream",
          "name": "stdout",
          "text": [
            "enter a name:neetu\n",
            "0\n",
            "n\n",
            "1\n",
            "e\n",
            "2\n",
            "e\n",
            "3\n",
            "t\n",
            "4\n",
            "u\n"
          ]
        }
      ]
    },
    {
      "cell_type": "code",
      "source": [
        "n=5\n",
        "for i in range(n,0,-1):\n",
        " print(' '*(n-i)+'*'*(2*i-1))\n"
      ],
      "metadata": {
        "id": "biYHGvHFDPbT",
        "colab": {
          "base_uri": "https://localhost:8080/"
        },
        "outputId": "1de38e01-6f1a-4a97-c6c3-f16e8aa6eac6"
      },
      "execution_count": 29,
      "outputs": [
        {
          "output_type": "stream",
          "name": "stdout",
          "text": [
            "*********\n",
            " *******\n",
            "  *****\n",
            "   ***\n",
            "    *\n"
          ]
        }
      ]
    },
    {
      "cell_type": "code",
      "source": [
        "# multiplication table\n",
        "num = int(input(\"Enter a number\"))\n",
        "for i in range (1,11):\n",
        "  print(f\"{num}*{i}={num*i}\")\n",
        ""
      ],
      "metadata": {
        "colab": {
          "base_uri": "https://localhost:8080/"
        },
        "id": "NaIQ42VsgEvq",
        "outputId": "8e6ff484-6ada-4846-8966-ae7e29a4f709"
      },
      "execution_count": 30,
      "outputs": [
        {
          "output_type": "stream",
          "name": "stdout",
          "text": [
            "Enter a number5\n",
            "5*1=5\n",
            "5*2=10\n",
            "5*3=15\n",
            "5*4=20\n",
            "5*5=25\n",
            "5*6=30\n",
            "5*7=35\n",
            "5*8=40\n",
            "5*9=45\n",
            "5*10=50\n"
          ]
        }
      ]
    },
    {
      "cell_type": "code",
      "source": [],
      "metadata": {
        "id": "hm7-ofggg672"
      },
      "execution_count": null,
      "outputs": []
    }
  ],
  "metadata": {
    "colab": {
      "provenance": [],
      "authorship_tag": "ABX9TyOn3fieXQbWxQl72RWcVuT7",
      "include_colab_link": true
    },
    "kernelspec": {
      "display_name": "Python 3",
      "name": "python3"
    },
    "language_info": {
      "name": "python"
    }
  },
  "nbformat": 4,
  "nbformat_minor": 0
}